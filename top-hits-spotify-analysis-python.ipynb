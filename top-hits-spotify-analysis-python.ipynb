{
 "cells": [
  {
   "cell_type": "markdown",
   "id": "f72b0c11",
   "metadata": {
    "_cell_guid": "b1076dfc-b9ad-4769-8c92-a6c4dae69d19",
    "_uuid": "8f2839f25d086af736a60e9eeb907d3b93b6e0e5",
    "papermill": {
     "duration": 0.010301,
     "end_time": "2022-06-17T22:17:31.451273",
     "exception": false,
     "start_time": "2022-06-17T22:17:31.440972",
     "status": "completed"
    },
    "tags": []
   },
   "source": [
    "# 🔝 Top Hits Spotify Analysis Python 🎤"
   ]
  },
  {
   "cell_type": "markdown",
   "id": "ff2e3011",
   "metadata": {
    "papermill": {
     "duration": 0.006407,
     "end_time": "2022-06-17T22:17:31.464527",
     "exception": false,
     "start_time": "2022-06-17T22:17:31.458120",
     "status": "completed"
    },
    "tags": []
   },
   "source": [
    "<div class=\"alert alert-block alert-info\" style=\"font-size:16px; font-family:Helvetica;\">\n",
    "     📌 In this notebook we are going to analyse tops hits music on Spotify from 2000 to 2019.To do it i am going to use different python libraries such as seaborn and matplotlib.There are useful information and columns that we'll analyse and try to undersant the result of it.\n",
    "</div>\n",
    "\n",
    "\n",
    "![image](https://developer.spotify.com/assets/branding-guidelines/logo@2x.png)"
   ]
  },
  {
   "cell_type": "markdown",
   "id": "881bd56c",
   "metadata": {
    "papermill": {
     "duration": 0.006567,
     "end_time": "2022-06-17T22:17:31.477790",
     "exception": false,
     "start_time": "2022-06-17T22:17:31.471223",
     "status": "completed"
    },
    "tags": []
   },
   "source": [
    "# Used Library 📖 <br>\n",
    "We'll use basic python libraries\n",
    "*  Numpy link: https://numpy.org\n",
    "*  Pandas link: https://pandas.pydata.org\n",
    "*  Matplotlib link: https://matplotlib.org\n",
    "*  Plotly link: https://plotly.com\n",
    "<hr>"
   ]
  },
  {
   "cell_type": "code",
   "execution_count": 1,
   "id": "27111d97",
   "metadata": {
    "execution": {
     "iopub.execute_input": "2022-06-17T22:17:31.493827Z",
     "iopub.status.busy": "2022-06-17T22:17:31.493057Z",
     "iopub.status.idle": "2022-06-17T22:17:33.923029Z",
     "shell.execute_reply": "2022-06-17T22:17:33.921976Z"
    },
    "papermill": {
     "duration": 2.440925,
     "end_time": "2022-06-17T22:17:33.925796",
     "exception": false,
     "start_time": "2022-06-17T22:17:31.484871",
     "status": "completed"
    },
    "tags": []
   },
   "outputs": [],
   "source": [
    "import matplotlib.pyplot as plt \n",
    "import plotly as py\n",
    "import pandas as pd\n",
    "import numpy as np \n",
    "import plotly.express as px\n",
    "import math \n",
    "import seaborn as sns\n",
    "%matplotlib inline "
   ]
  },
  {
   "cell_type": "code",
   "execution_count": 2,
   "id": "95800625",
   "metadata": {
    "execution": {
     "iopub.execute_input": "2022-06-17T22:17:33.941438Z",
     "iopub.status.busy": "2022-06-17T22:17:33.941024Z",
     "iopub.status.idle": "2022-06-17T22:17:33.975212Z",
     "shell.execute_reply": "2022-06-17T22:17:33.974142Z"
    },
    "papermill": {
     "duration": 0.04531,
     "end_time": "2022-06-17T22:17:33.978087",
     "exception": false,
     "start_time": "2022-06-17T22:17:33.932777",
     "status": "completed"
    },
    "tags": []
   },
   "outputs": [],
   "source": [
    "df = pd.read_csv('../input/top-hits-spotify-from-20002019/songs_normalize.csv')"
   ]
  },
  {
   "cell_type": "code",
   "execution_count": 3,
   "id": "e3902743",
   "metadata": {
    "execution": {
     "iopub.execute_input": "2022-06-17T22:17:33.993695Z",
     "iopub.status.busy": "2022-06-17T22:17:33.993293Z",
     "iopub.status.idle": "2022-06-17T22:17:34.022455Z",
     "shell.execute_reply": "2022-06-17T22:17:34.021516Z"
    },
    "papermill": {
     "duration": 0.040333,
     "end_time": "2022-06-17T22:17:34.025565",
     "exception": false,
     "start_time": "2022-06-17T22:17:33.985232",
     "status": "completed"
    },
    "tags": []
   },
   "outputs": [
    {
     "data": {
      "text/html": [
       "<div>\n",
       "<style scoped>\n",
       "    .dataframe tbody tr th:only-of-type {\n",
       "        vertical-align: middle;\n",
       "    }\n",
       "\n",
       "    .dataframe tbody tr th {\n",
       "        vertical-align: top;\n",
       "    }\n",
       "\n",
       "    .dataframe thead th {\n",
       "        text-align: right;\n",
       "    }\n",
       "</style>\n",
       "<table border=\"1\" class=\"dataframe\">\n",
       "  <thead>\n",
       "    <tr style=\"text-align: right;\">\n",
       "      <th></th>\n",
       "      <th>artist</th>\n",
       "      <th>song</th>\n",
       "      <th>duration_ms</th>\n",
       "      <th>explicit</th>\n",
       "      <th>year</th>\n",
       "      <th>popularity</th>\n",
       "      <th>danceability</th>\n",
       "      <th>energy</th>\n",
       "      <th>key</th>\n",
       "      <th>loudness</th>\n",
       "      <th>mode</th>\n",
       "      <th>speechiness</th>\n",
       "      <th>acousticness</th>\n",
       "      <th>instrumentalness</th>\n",
       "      <th>liveness</th>\n",
       "      <th>valence</th>\n",
       "      <th>tempo</th>\n",
       "      <th>genre</th>\n",
       "    </tr>\n",
       "  </thead>\n",
       "  <tbody>\n",
       "    <tr>\n",
       "      <th>0</th>\n",
       "      <td>Britney Spears</td>\n",
       "      <td>Oops!...I Did It Again</td>\n",
       "      <td>211160</td>\n",
       "      <td>False</td>\n",
       "      <td>2000</td>\n",
       "      <td>77</td>\n",
       "      <td>0.751</td>\n",
       "      <td>0.834</td>\n",
       "      <td>1</td>\n",
       "      <td>-5.444</td>\n",
       "      <td>0</td>\n",
       "      <td>0.0437</td>\n",
       "      <td>0.3000</td>\n",
       "      <td>0.000018</td>\n",
       "      <td>0.3550</td>\n",
       "      <td>0.894</td>\n",
       "      <td>95.053</td>\n",
       "      <td>pop</td>\n",
       "    </tr>\n",
       "    <tr>\n",
       "      <th>1</th>\n",
       "      <td>blink-182</td>\n",
       "      <td>All The Small Things</td>\n",
       "      <td>167066</td>\n",
       "      <td>False</td>\n",
       "      <td>1999</td>\n",
       "      <td>79</td>\n",
       "      <td>0.434</td>\n",
       "      <td>0.897</td>\n",
       "      <td>0</td>\n",
       "      <td>-4.918</td>\n",
       "      <td>1</td>\n",
       "      <td>0.0488</td>\n",
       "      <td>0.0103</td>\n",
       "      <td>0.000000</td>\n",
       "      <td>0.6120</td>\n",
       "      <td>0.684</td>\n",
       "      <td>148.726</td>\n",
       "      <td>rock, pop</td>\n",
       "    </tr>\n",
       "    <tr>\n",
       "      <th>2</th>\n",
       "      <td>Faith Hill</td>\n",
       "      <td>Breathe</td>\n",
       "      <td>250546</td>\n",
       "      <td>False</td>\n",
       "      <td>1999</td>\n",
       "      <td>66</td>\n",
       "      <td>0.529</td>\n",
       "      <td>0.496</td>\n",
       "      <td>7</td>\n",
       "      <td>-9.007</td>\n",
       "      <td>1</td>\n",
       "      <td>0.0290</td>\n",
       "      <td>0.1730</td>\n",
       "      <td>0.000000</td>\n",
       "      <td>0.2510</td>\n",
       "      <td>0.278</td>\n",
       "      <td>136.859</td>\n",
       "      <td>pop, country</td>\n",
       "    </tr>\n",
       "    <tr>\n",
       "      <th>3</th>\n",
       "      <td>Bon Jovi</td>\n",
       "      <td>It's My Life</td>\n",
       "      <td>224493</td>\n",
       "      <td>False</td>\n",
       "      <td>2000</td>\n",
       "      <td>78</td>\n",
       "      <td>0.551</td>\n",
       "      <td>0.913</td>\n",
       "      <td>0</td>\n",
       "      <td>-4.063</td>\n",
       "      <td>0</td>\n",
       "      <td>0.0466</td>\n",
       "      <td>0.0263</td>\n",
       "      <td>0.000013</td>\n",
       "      <td>0.3470</td>\n",
       "      <td>0.544</td>\n",
       "      <td>119.992</td>\n",
       "      <td>rock, metal</td>\n",
       "    </tr>\n",
       "    <tr>\n",
       "      <th>4</th>\n",
       "      <td>*NSYNC</td>\n",
       "      <td>Bye Bye Bye</td>\n",
       "      <td>200560</td>\n",
       "      <td>False</td>\n",
       "      <td>2000</td>\n",
       "      <td>65</td>\n",
       "      <td>0.614</td>\n",
       "      <td>0.928</td>\n",
       "      <td>8</td>\n",
       "      <td>-4.806</td>\n",
       "      <td>0</td>\n",
       "      <td>0.0516</td>\n",
       "      <td>0.0408</td>\n",
       "      <td>0.001040</td>\n",
       "      <td>0.0845</td>\n",
       "      <td>0.879</td>\n",
       "      <td>172.656</td>\n",
       "      <td>pop</td>\n",
       "    </tr>\n",
       "  </tbody>\n",
       "</table>\n",
       "</div>"
      ],
      "text/plain": [
       "           artist                    song  duration_ms  explicit  year  \\\n",
       "0  Britney Spears  Oops!...I Did It Again       211160     False  2000   \n",
       "1       blink-182    All The Small Things       167066     False  1999   \n",
       "2      Faith Hill                 Breathe       250546     False  1999   \n",
       "3        Bon Jovi            It's My Life       224493     False  2000   \n",
       "4          *NSYNC             Bye Bye Bye       200560     False  2000   \n",
       "\n",
       "   popularity  danceability  energy  key  loudness  mode  speechiness  \\\n",
       "0          77         0.751   0.834    1    -5.444     0       0.0437   \n",
       "1          79         0.434   0.897    0    -4.918     1       0.0488   \n",
       "2          66         0.529   0.496    7    -9.007     1       0.0290   \n",
       "3          78         0.551   0.913    0    -4.063     0       0.0466   \n",
       "4          65         0.614   0.928    8    -4.806     0       0.0516   \n",
       "\n",
       "   acousticness  instrumentalness  liveness  valence    tempo         genre  \n",
       "0        0.3000          0.000018    0.3550    0.894   95.053           pop  \n",
       "1        0.0103          0.000000    0.6120    0.684  148.726     rock, pop  \n",
       "2        0.1730          0.000000    0.2510    0.278  136.859  pop, country  \n",
       "3        0.0263          0.000013    0.3470    0.544  119.992   rock, metal  \n",
       "4        0.0408          0.001040    0.0845    0.879  172.656           pop  "
      ]
     },
     "execution_count": 3,
     "metadata": {},
     "output_type": "execute_result"
    }
   ],
   "source": [
    "df.head()"
   ]
  },
  {
   "cell_type": "markdown",
   "id": "4284dcaf",
   "metadata": {
    "papermill": {
     "duration": 0.007178,
     "end_time": "2022-06-17T22:17:34.039812",
     "exception": false,
     "start_time": "2022-06-17T22:17:34.032634",
     "status": "completed"
    },
    "tags": []
   },
   "source": [
    "### How Many Artist are there "
   ]
  },
  {
   "cell_type": "code",
   "execution_count": 4,
   "id": "1d7ed24f",
   "metadata": {
    "execution": {
     "iopub.execute_input": "2022-06-17T22:17:34.056255Z",
     "iopub.status.busy": "2022-06-17T22:17:34.055829Z",
     "iopub.status.idle": "2022-06-17T22:17:34.068368Z",
     "shell.execute_reply": "2022-06-17T22:17:34.067612Z"
    },
    "papermill": {
     "duration": 0.023064,
     "end_time": "2022-06-17T22:17:34.070281",
     "exception": false,
     "start_time": "2022-06-17T22:17:34.047217",
     "status": "completed"
    },
    "tags": []
   },
   "outputs": [
    {
     "data": {
      "text/plain": [
       "835"
      ]
     },
     "execution_count": 4,
     "metadata": {},
     "output_type": "execute_result"
    }
   ],
   "source": [
    "len(df.artist.unique())"
   ]
  },
  {
   "cell_type": "markdown",
   "id": "b20f8227",
   "metadata": {
    "papermill": {
     "duration": 0.007227,
     "end_time": "2022-06-17T22:17:34.084914",
     "exception": false,
     "start_time": "2022-06-17T22:17:34.077687",
     "status": "completed"
    },
    "tags": []
   },
   "source": [
    "### Get the first five artist with the most registration"
   ]
  },
  {
   "cell_type": "code",
   "execution_count": 5,
   "id": "c15e6107",
   "metadata": {
    "execution": {
     "iopub.execute_input": "2022-06-17T22:17:34.101889Z",
     "iopub.status.busy": "2022-06-17T22:17:34.101096Z",
     "iopub.status.idle": "2022-06-17T22:17:34.290246Z",
     "shell.execute_reply": "2022-06-17T22:17:34.289221Z"
    },
    "papermill": {
     "duration": 0.199877,
     "end_time": "2022-06-17T22:17:34.292310",
     "exception": false,
     "start_time": "2022-06-17T22:17:34.092433",
     "status": "completed"
    },
    "tags": []
   },
   "outputs": [
    {
     "data": {
      "text/plain": [
       "<AxesSubplot:>"
      ]
     },
     "execution_count": 5,
     "metadata": {},
     "output_type": "execute_result"
    },
    {
     "data": {
      "image/png": "[encoded data removed]",
      "text/plain": [
       "<Figure size 1080x360 with 1 Axes>"
      ]
     },
     "metadata": {
      "needs_background": "light"
     },
     "output_type": "display_data"
    }
   ],
   "source": [
    "plt.figure(figsize=(15,5))\n",
    "df.artist.value_counts().head().plot.bar()"
   ]
  },
  {
   "cell_type": "markdown",
   "id": "b645d350",
   "metadata": {
    "papermill": {
     "duration": 0.007574,
     "end_time": "2022-06-17T22:17:34.307453",
     "exception": false,
     "start_time": "2022-06-17T22:17:34.299879",
     "status": "completed"
    },
    "tags": []
   },
   "source": [
    "### Focus on Rihanna\n",
    "\n",
    "<div>\n",
    "<img src=\"https://pbs.twimg.com/media/FSaQ1ThUcAAqz5k.jpg\" width=\"300\"/>\n",
    "</div>"
   ]
  },
  {
   "cell_type": "code",
   "execution_count": 6,
   "id": "ac8807a4",
   "metadata": {
    "execution": {
     "iopub.execute_input": "2022-06-17T22:17:34.325483Z",
     "iopub.status.busy": "2022-06-17T22:17:34.324124Z",
     "iopub.status.idle": "2022-06-17T22:17:34.351793Z",
     "shell.execute_reply": "2022-06-17T22:17:34.350806Z"
    },
    "papermill": {
     "duration": 0.038779,
     "end_time": "2022-06-17T22:17:34.354005",
     "exception": false,
     "start_time": "2022-06-17T22:17:34.315226",
     "status": "completed"
    },
    "tags": []
   },
   "outputs": [
    {
     "data": {
      "text/html": [
       "<div>\n",
       "<style scoped>\n",
       "    .dataframe tbody tr th:only-of-type {\n",
       "        vertical-align: middle;\n",
       "    }\n",
       "\n",
       "    .dataframe tbody tr th {\n",
       "        vertical-align: top;\n",
       "    }\n",
       "\n",
       "    .dataframe thead th {\n",
       "        text-align: right;\n",
       "    }\n",
       "</style>\n",
       "<table border=\"1\" class=\"dataframe\">\n",
       "  <thead>\n",
       "    <tr style=\"text-align: right;\">\n",
       "      <th></th>\n",
       "      <th>artist</th>\n",
       "      <th>song</th>\n",
       "      <th>duration_ms</th>\n",
       "      <th>explicit</th>\n",
       "      <th>year</th>\n",
       "      <th>popularity</th>\n",
       "      <th>danceability</th>\n",
       "      <th>energy</th>\n",
       "      <th>key</th>\n",
       "      <th>loudness</th>\n",
       "      <th>mode</th>\n",
       "      <th>speechiness</th>\n",
       "      <th>acousticness</th>\n",
       "      <th>instrumentalness</th>\n",
       "      <th>liveness</th>\n",
       "      <th>valence</th>\n",
       "      <th>tempo</th>\n",
       "      <th>genre</th>\n",
       "    </tr>\n",
       "  </thead>\n",
       "  <tbody>\n",
       "    <tr>\n",
       "      <th>503</th>\n",
       "      <td>Rihanna</td>\n",
       "      <td>Pon de Replay</td>\n",
       "      <td>246960</td>\n",
       "      <td>False</td>\n",
       "      <td>2005</td>\n",
       "      <td>77</td>\n",
       "      <td>0.779</td>\n",
       "      <td>0.640</td>\n",
       "      <td>7</td>\n",
       "      <td>-8.415</td>\n",
       "      <td>1</td>\n",
       "      <td>0.1590</td>\n",
       "      <td>0.000155</td>\n",
       "      <td>0.000770</td>\n",
       "      <td>0.1010</td>\n",
       "      <td>0.498</td>\n",
       "      <td>99.019</td>\n",
       "      <td>hip hop, pop, R&amp;B</td>\n",
       "    </tr>\n",
       "    <tr>\n",
       "      <th>605</th>\n",
       "      <td>Rihanna</td>\n",
       "      <td>SOS</td>\n",
       "      <td>238920</td>\n",
       "      <td>False</td>\n",
       "      <td>2006</td>\n",
       "      <td>73</td>\n",
       "      <td>0.677</td>\n",
       "      <td>0.671</td>\n",
       "      <td>7</td>\n",
       "      <td>-4.905</td>\n",
       "      <td>1</td>\n",
       "      <td>0.0361</td>\n",
       "      <td>0.004000</td>\n",
       "      <td>0.000051</td>\n",
       "      <td>0.4130</td>\n",
       "      <td>0.527</td>\n",
       "      <td>137.046</td>\n",
       "      <td>hip hop, pop, R&amp;B</td>\n",
       "    </tr>\n",
       "    <tr>\n",
       "      <th>648</th>\n",
       "      <td>Rihanna</td>\n",
       "      <td>Unfaithful</td>\n",
       "      <td>226973</td>\n",
       "      <td>False</td>\n",
       "      <td>2006</td>\n",
       "      <td>70</td>\n",
       "      <td>0.588</td>\n",
       "      <td>0.391</td>\n",
       "      <td>0</td>\n",
       "      <td>-8.607</td>\n",
       "      <td>0</td>\n",
       "      <td>0.0334</td>\n",
       "      <td>0.839000</td>\n",
       "      <td>0.000000</td>\n",
       "      <td>0.2270</td>\n",
       "      <td>0.349</td>\n",
       "      <td>144.069</td>\n",
       "      <td>hip hop, pop, R&amp;B</td>\n",
       "    </tr>\n",
       "    <tr>\n",
       "      <th>701</th>\n",
       "      <td>Rihanna</td>\n",
       "      <td>Umbrella</td>\n",
       "      <td>275986</td>\n",
       "      <td>False</td>\n",
       "      <td>2008</td>\n",
       "      <td>81</td>\n",
       "      <td>0.583</td>\n",
       "      <td>0.829</td>\n",
       "      <td>1</td>\n",
       "      <td>-4.603</td>\n",
       "      <td>1</td>\n",
       "      <td>0.1340</td>\n",
       "      <td>0.008640</td>\n",
       "      <td>0.000000</td>\n",
       "      <td>0.0426</td>\n",
       "      <td>0.575</td>\n",
       "      <td>174.028</td>\n",
       "      <td>hip hop, pop, R&amp;B</td>\n",
       "    </tr>\n",
       "    <tr>\n",
       "      <th>726</th>\n",
       "      <td>Rihanna</td>\n",
       "      <td>Shut Up And Drive</td>\n",
       "      <td>212280</td>\n",
       "      <td>False</td>\n",
       "      <td>2008</td>\n",
       "      <td>69</td>\n",
       "      <td>0.735</td>\n",
       "      <td>0.826</td>\n",
       "      <td>1</td>\n",
       "      <td>-4.902</td>\n",
       "      <td>1</td>\n",
       "      <td>0.0349</td>\n",
       "      <td>0.001010</td>\n",
       "      <td>0.129000</td>\n",
       "      <td>0.1970</td>\n",
       "      <td>0.740</td>\n",
       "      <td>132.964</td>\n",
       "      <td>hip hop, pop, R&amp;B</td>\n",
       "    </tr>\n",
       "  </tbody>\n",
       "</table>\n",
       "</div>"
      ],
      "text/plain": [
       "      artist               song  duration_ms  explicit  year  popularity  \\\n",
       "503  Rihanna      Pon de Replay       246960     False  2005          77   \n",
       "605  Rihanna                SOS       238920     False  2006          73   \n",
       "648  Rihanna         Unfaithful       226973     False  2006          70   \n",
       "701  Rihanna           Umbrella       275986     False  2008          81   \n",
       "726  Rihanna  Shut Up And Drive       212280     False  2008          69   \n",
       "\n",
       "     danceability  energy  key  loudness  mode  speechiness  acousticness  \\\n",
       "503         0.779   0.640    7    -8.415     1       0.1590      0.000155   \n",
       "605         0.677   0.671    7    -4.905     1       0.0361      0.004000   \n",
       "648         0.588   0.391    0    -8.607     0       0.0334      0.839000   \n",
       "701         0.583   0.829    1    -4.603     1       0.1340      0.008640   \n",
       "726         0.735   0.826    1    -4.902     1       0.0349      0.001010   \n",
       "\n",
       "     instrumentalness  liveness  valence    tempo              genre  \n",
       "503          0.000770    0.1010    0.498   99.019  hip hop, pop, R&B  \n",
       "605          0.000051    0.4130    0.527  137.046  hip hop, pop, R&B  \n",
       "648          0.000000    0.2270    0.349  144.069  hip hop, pop, R&B  \n",
       "701          0.000000    0.0426    0.575  174.028  hip hop, pop, R&B  \n",
       "726          0.129000    0.1970    0.740  132.964  hip hop, pop, R&B  "
      ]
     },
     "execution_count": 6,
     "metadata": {},
     "output_type": "execute_result"
    }
   ],
   "source": [
    "rihanna_df = df[df['artist'] == 'Rihanna']\n",
    "rihanna_df.head()"
   ]
  },
  {
   "cell_type": "markdown",
   "id": "3d577099",
   "metadata": {
    "papermill": {
     "duration": 0.008081,
     "end_time": "2022-06-17T22:17:34.370437",
     "exception": false,
     "start_time": "2022-06-17T22:17:34.362356",
     "status": "completed"
    },
    "tags": []
   },
   "source": [
    "### How Many Song did she have"
   ]
  },
  {
   "cell_type": "code",
   "execution_count": 7,
   "id": "8abfd605",
   "metadata": {
    "execution": {
     "iopub.execute_input": "2022-06-17T22:17:34.388909Z",
     "iopub.status.busy": "2022-06-17T22:17:34.388144Z",
     "iopub.status.idle": "2022-06-17T22:17:34.395242Z",
     "shell.execute_reply": "2022-06-17T22:17:34.394270Z"
    },
    "papermill": {
     "duration": 0.018749,
     "end_time": "2022-06-17T22:17:34.397330",
     "exception": false,
     "start_time": "2022-06-17T22:17:34.378581",
     "status": "completed"
    },
    "tags": []
   },
   "outputs": [
    {
     "data": {
      "text/plain": [
       "23"
      ]
     },
     "execution_count": 7,
     "metadata": {},
     "output_type": "execute_result"
    }
   ],
   "source": [
    "len(rihanna_df.song.unique())"
   ]
  },
  {
   "cell_type": "markdown",
   "id": "5dff5ecd",
   "metadata": {
    "papermill": {
     "duration": 0.008391,
     "end_time": "2022-06-17T22:17:34.413829",
     "exception": false,
     "start_time": "2022-06-17T22:17:34.405438",
     "status": "completed"
    },
    "tags": []
   },
   "source": [
    "### Get the popularity and number of song per year (each block represent one music)"
   ]
  },
  {
   "cell_type": "code",
   "execution_count": 8,
   "id": "329540ee",
   "metadata": {
    "execution": {
     "iopub.execute_input": "2022-06-17T22:17:34.432207Z",
     "iopub.status.busy": "2022-06-17T22:17:34.431497Z",
     "iopub.status.idle": "2022-06-17T22:17:35.672590Z",
     "shell.execute_reply": "2022-06-17T22:17:35.671646Z"
    },
    "papermill": {
     "duration": 1.252705,
     "end_time": "2022-06-17T22:17:35.674720",
     "exception": false,
     "start_time": "2022-06-17T22:17:34.422015",
     "status": "completed"
    },
    "tags": []
   },
   "outputs": [
    {
     "data": {
      "text/html": [
       "        <script type=\"text/javascript\">\n",
       "        window.PlotlyConfig = {MathJaxConfig: 'local'};\n",
       "        if (window.MathJax && window.MathJax.Hub && window.MathJax.Hub.Config) {window.MathJax.Hub.Config({SVG: {font: \"STIX-Web\"}});}\n",
       "        if (typeof require !== 'undefined') {\n",
       "        require.undef(\"plotly\");\n",
       "        requirejs.config({\n",
       "            paths: {\n",
       "                'plotly': ['https://cdn.plot.ly/plotly-2.12.1.min']\n",
       "            }\n",
       "        });\n",
       "        require(['plotly'], function(Plotly) {\n",
       "            window._Plotly = Plotly;\n",
       "        });\n",
       "        }\n",
       "        </script>\n",
       "        "
      ]
     },
     "metadata": {},
     "output_type": "display_data"
    },
    {
     "data": {
      "text/html": [
       "<div>                            <div id=\"2c41b1c1-8599-483c-8cdf-5c7011b3ce4c\" class=\"plotly-graph-div\" style=\"height:525px; width:100%;\"></div>            <script type=\"text/javascript\">                require([\"plotly\"], function(Plotly) {                    window.PLOTLYENV=window.PLOTLYENV || {};                                    if (document.getElementById(\"2c41b1c1-8599-483c-8cdf-5c7011b3ce4c\")) {                    Plotly.newPlot(                        \"2c41b1c1-8599-483c-8cdf-5c7011b3ce4c\",                        [{\"alignmentgroup\":\"True\",\"hovertemplate\":\"year=%{x}<br>popularity=%{y}<extra></extra>\",\"legendgroup\":\"\",\"marker\":{\"color\":\"#636efa\",\"pattern\":{\"shape\":\"\"}},\"name\":\"\",\"offsetgroup\":\"\",\"orientation\":\"v\",\"showlegend\":false,\"textposition\":\"auto\",\"x\":[2005,2006,2006,2008,2008,2008,2008,2008,2009,2010,2009,2009,2009,2010,2010,2010,2011,2010,2011,2011,2012,2012,2015,2016,2016],\"xaxis\":\"x\",\"y\":[77,73,70,81,69,74,76,77,64,73,67,74,55,68,66,73,75,66,75,71,75,76,73,75,80],\"yaxis\":\"y\",\"type\":\"bar\"}],                        {\"template\":{\"data\":{\"histogram2dcontour\":[{\"type\":\"histogram2dcontour\",\"colorbar\":{\"outlinewidth\":0,\"ticks\":\"\"},\"colorscale\":[[0.0,\"#0d0887\"],[0.1111111111111111,\"#46039f\"],[0.2222222222222222,\"#7201a8\"],[0.3333333333333333,\"#9c179e\"],[0.4444444444444444,\"#bd3786\"],[0.5555555555555556,\"#d8576b\"],[0.6666666666666666,\"#ed7953\"],[0.7777777777777778,\"#fb9f3a\"],[0.8888888888888888,\"#fdca26\"],[1.0,\"#f0f921\"]]}],\"choropleth\":[{\"type\":\"choropleth\",\"colorbar\":{\"outlinewidth\":0,\"ticks\":\"\"}}],\"histogram2d\":[{\"type\":\"histogram2d\",\"colorbar\":{\"outlinewidth\":0,\"ticks\":\"\"},\"colorscale\":[[0.0,\"#0d0887\"],[0.1111111111111111,\"#46039f\"],[0.2222222222222222,\"#7201a8\"],[0.3333333333333333,\"#9c179e\"],[0.4444444444444444,\"#bd3786\"],[0.5555555555555556,\"#d8576b\"],[0.6666666666666666,\"#ed7953\"],[0.7777777777777778,\"#fb9f3a\"],[0.8888888888888888,\"#fdca26\"],[1.0,\"#f0f921\"]]}],\"heatmap\":[{\"type\":\"heatmap\",\"colorbar\":{\"outlinewidth\":0,\"ticks\":\"\"},\"colorscale\":[[0.0,\"#0d0887\"],[0.1111111111111111,\"#46039f\"],[0.2222222222222222,\"#7201a8\"],[0.3333333333333333,\"#9c179e\"],[0.4444444444444444,\"#bd3786\"],[0.5555555555555556,\"#d8576b\"],[0.6666666666666666,\"#ed7953\"],[0.7777777777777778,\"#fb9f3a\"],[0.8888888888888888,\"#fdca26\"],[1.0,\"#f0f921\"]]}],\"heatmapgl\":[{\"type\":\"heatmapgl\",\"colorbar\":{\"outlinewidth\":0,\"ticks\":\"\"},\"colorscale\":[[0.0,\"#0d0887\"],[0.1111111111111111,\"#46039f\"],[0.2222222222222222,\"#7201a8\"],[0.3333333333333333,\"#9c179e\"],[0.4444444444444444,\"#bd3786\"],[0.5555555555555556,\"#d8576b\"],[0.6666666666666666,\"#ed7953\"],[0.7777777777777778,\"#fb9f3a\"],[0.8888888888888888,\"#fdca26\"],[1.0,\"#f0f921\"]]}],\"contourcarpet\":[{\"type\":\"contourcarpet\",\"colorbar\":{\"outlinewidth\":0,\"ticks\":\"\"}}],\"contour\":[{\"type\":\"contour\",\"colorbar\":{\"outlinewidth\":0,\"ticks\":\"\"},\"colorscale\":[[0.0,\"#0d0887\"],[0.1111111111111111,\"#46039f\"],[0.2222222222222222,\"#7201a8\"],[0.3333333333333333,\"#9c179e\"],[0.4444444444444444,\"#bd3786\"],[0.5555555555555556,\"#d8576b\"],[0.6666666666666666,\"#ed7953\"],[0.7777777777777778,\"#fb9f3a\"],[0.8888888888888888,\"#fdca26\"],[1.0,\"#f0f921\"]]}],\"surface\":[{\"type\":\"surface\",\"colorbar\":{\"outlinewidth\":0,\"ticks\":\"\"},\"colorscale\":[[0.0,\"#0d0887\"],[0.1111111111111111,\"#46039f\"],[0.2222222222222222,\"#7201a8\"],[0.3333333333333333,\"#9c179e\"],[0.4444444444444444,\"#bd3786\"],[0.5555555555555556,\"#d8576b\"],[0.6666666666666666,\"#ed7953\"],[0.7777777777777778,\"#fb9f3a\"],[0.8888888888888888,\"#fdca26\"],[1.0,\"#f0f921\"]]}],\"mesh3d\":[{\"type\":\"mesh3d\",\"colorbar\":{\"outlinewidth\":0,\"ticks\":\"\"}}],\"scatter\":[{\"fillpattern\":{\"fillmode\":\"overlay\",\"size\":10,\"solidity\":0.2},\"type\":\"scatter\"}],\"parcoords\":[{\"type\":\"parcoords\",\"line\":{\"colorbar\":{\"outlinewidth\":0,\"ticks\":\"\"}}}],\"scatterpolargl\":[{\"type\":\"scatterpolargl\",\"marker\":{\"colorbar\":{\"outlinewidth\":0,\"ticks\":\"\"}}}],\"bar\":[{\"error_x\":{\"color\":\"#2a3f5f\"},\"error_y\":{\"color\":\"#2a3f5f\"},\"marker\":{\"line\":{\"color\":\"#E5ECF6\",\"width\":0.5},\"pattern\":{\"fillmode\":\"overlay\",\"size\":10,\"solidity\":0.2}},\"type\":\"bar\"}],\"scattergeo\":[{\"type\":\"scattergeo\",\"marker\":{\"colorbar\":{\"outlinewidth\":0,\"ticks\":\"\"}}}],\"scatterpolar\":[{\"type\":\"scatterpolar\",\"marker\":{\"colorbar\":{\"outlinewidth\":0,\"ticks\":\"\"}}}],\"histogram\":[{\"marker\":{\"pattern\":{\"fillmode\":\"overlay\",\"size\":10,\"solidity\":0.2}},\"type\":\"histogram\"}],\"scattergl\":[{\"type\":\"scattergl\",\"marker\":{\"colorbar\":{\"outlinewidth\":0,\"ticks\":\"\"}}}],\"scatter3d\":[{\"type\":\"scatter3d\",\"line\":{\"colorbar\":{\"outlinewidth\":0,\"ticks\":\"\"}},\"marker\":{\"colorbar\":{\"outlinewidth\":0,\"ticks\":\"\"}}}],\"scattermapbox\":[{\"type\":\"scattermapbox\",\"marker\":{\"colorbar\":{\"outlinewidth\":0,\"ticks\":\"\"}}}],\"scatterternary\":[{\"type\":\"scatterternary\",\"marker\":{\"colorbar\":{\"outlinewidth\":0,\"ticks\":\"\"}}}],\"scattercarpet\":[{\"type\":\"scattercarpet\",\"marker\":{\"colorbar\":{\"outlinewidth\":0,\"ticks\":\"\"}}}],\"carpet\":[{\"aaxis\":{\"endlinecolor\":\"#2a3f5f\",\"gridcolor\":\"white\",\"linecolor\":\"white\",\"minorgridcolor\":\"white\",\"startlinecolor\":\"#2a3f5f\"},\"baxis\":{\"endlinecolor\":\"#2a3f5f\",\"gridcolor\":\"white\",\"linecolor\":\"white\",\"minorgridcolor\":\"white\",\"startlinecolor\":\"#2a3f5f\"},\"type\":\"carpet\"}],\"table\":[{\"cells\":{\"fill\":{\"color\":\"#EBF0F8\"},\"line\":{\"color\":\"white\"}},\"header\":{\"fill\":{\"color\":\"#C8D4E3\"},\"line\":{\"color\":\"white\"}},\"type\":\"table\"}],\"barpolar\":[{\"marker\":{\"line\":{\"color\":\"#E5ECF6\",\"width\":0.5},\"pattern\":{\"fillmode\":\"overlay\",\"size\":10,\"solidity\":0.2}},\"type\":\"barpolar\"}],\"pie\":[{\"automargin\":true,\"type\":\"pie\"}]},\"layout\":{\"autotypenumbers\":\"strict\",\"colorway\":[\"#636efa\",\"#EF553B\",\"#00cc96\",\"#ab63fa\",\"#FFA15A\",\"#19d3f3\",\"#FF6692\",\"#B6E880\",\"#FF97FF\",\"#FECB52\"],\"font\":{\"color\":\"#2a3f5f\"},\"hovermode\":\"closest\",\"hoverlabel\":{\"align\":\"left\"},\"paper_bgcolor\":\"white\",\"plot_bgcolor\":\"#E5ECF6\",\"polar\":{\"bgcolor\":\"#E5ECF6\",\"angularaxis\":{\"gridcolor\":\"white\",\"linecolor\":\"white\",\"ticks\":\"\"},\"radialaxis\":{\"gridcolor\":\"white\",\"linecolor\":\"white\",\"ticks\":\"\"}},\"ternary\":{\"bgcolor\":\"#E5ECF6\",\"aaxis\":{\"gridcolor\":\"white\",\"linecolor\":\"white\",\"ticks\":\"\"},\"baxis\":{\"gridcolor\":\"white\",\"linecolor\":\"white\",\"ticks\":\"\"},\"caxis\":{\"gridcolor\":\"white\",\"linecolor\":\"white\",\"ticks\":\"\"}},\"coloraxis\":{\"colorbar\":{\"outlinewidth\":0,\"ticks\":\"\"}},\"colorscale\":{\"sequential\":[[0.0,\"#0d0887\"],[0.1111111111111111,\"#46039f\"],[0.2222222222222222,\"#7201a8\"],[0.3333333333333333,\"#9c179e\"],[0.4444444444444444,\"#bd3786\"],[0.5555555555555556,\"#d8576b\"],[0.6666666666666666,\"#ed7953\"],[0.7777777777777778,\"#fb9f3a\"],[0.8888888888888888,\"#fdca26\"],[1.0,\"#f0f921\"]],\"sequentialminus\":[[0.0,\"#0d0887\"],[0.1111111111111111,\"#46039f\"],[0.2222222222222222,\"#7201a8\"],[0.3333333333333333,\"#9c179e\"],[0.4444444444444444,\"#bd3786\"],[0.5555555555555556,\"#d8576b\"],[0.6666666666666666,\"#ed7953\"],[0.7777777777777778,\"#fb9f3a\"],[0.8888888888888888,\"#fdca26\"],[1.0,\"#f0f921\"]],\"diverging\":[[0,\"#8e0152\"],[0.1,\"#c51b7d\"],[0.2,\"#de77ae\"],[0.3,\"#f1b6da\"],[0.4,\"#fde0ef\"],[0.5,\"#f7f7f7\"],[0.6,\"#e6f5d0\"],[0.7,\"#b8e186\"],[0.8,\"#7fbc41\"],[0.9,\"#4d9221\"],[1,\"#276419\"]]},\"xaxis\":{\"gridcolor\":\"white\",\"linecolor\":\"white\",\"ticks\":\"\",\"title\":{\"standoff\":15},\"zerolinecolor\":\"white\",\"automargin\":true,\"zerolinewidth\":2},\"yaxis\":{\"gridcolor\":\"white\",\"linecolor\":\"white\",\"ticks\":\"\",\"title\":{\"standoff\":15},\"zerolinecolor\":\"white\",\"automargin\":true,\"zerolinewidth\":2},\"scene\":{\"xaxis\":{\"backgroundcolor\":\"#E5ECF6\",\"gridcolor\":\"white\",\"linecolor\":\"white\",\"showbackground\":true,\"ticks\":\"\",\"zerolinecolor\":\"white\",\"gridwidth\":2},\"yaxis\":{\"backgroundcolor\":\"#E5ECF6\",\"gridcolor\":\"white\",\"linecolor\":\"white\",\"showbackground\":true,\"ticks\":\"\",\"zerolinecolor\":\"white\",\"gridwidth\":2},\"zaxis\":{\"backgroundcolor\":\"#E5ECF6\",\"gridcolor\":\"white\",\"linecolor\":\"white\",\"showbackground\":true,\"ticks\":\"\",\"zerolinecolor\":\"white\",\"gridwidth\":2}},\"shapedefaults\":{\"line\":{\"color\":\"#2a3f5f\"}},\"annotationdefaults\":{\"arrowcolor\":\"#2a3f5f\",\"arrowhead\":0,\"arrowwidth\":1},\"geo\":{\"bgcolor\":\"white\",\"landcolor\":\"#E5ECF6\",\"subunitcolor\":\"white\",\"showland\":true,\"showlakes\":true,\"lakecolor\":\"white\"},\"title\":{\"x\":0.05},\"mapbox\":{\"style\":\"light\"}}},\"xaxis\":{\"anchor\":\"y\",\"domain\":[0.0,1.0],\"title\":{\"text\":\"year\"}},\"yaxis\":{\"anchor\":\"x\",\"domain\":[0.0,1.0],\"title\":{\"text\":\"popularity\"}},\"legend\":{\"tracegroupgap\":0},\"title\":{\"text\":\"Total Popularity of song by year\"},\"barmode\":\"relative\"},                        {\"responsive\": true}                    ).then(function(){\n",
       "                            \n",
       "var gd = document.getElementById('2c41b1c1-8599-483c-8cdf-5c7011b3ce4c');\n",
       "var x = new MutationObserver(function (mutations, observer) {{\n",
       "        var display = window.getComputedStyle(gd).display;\n",
       "        if (!display || display === 'none') {{\n",
       "            console.log([gd, 'removed!']);\n",
       "            Plotly.purge(gd);\n",
       "            observer.disconnect();\n",
       "        }}\n",
       "}});\n",
       "\n",
       "// Listen for the removal of the full notebook cells\n",
       "var notebookContainer = gd.closest('#notebook-container');\n",
       "if (notebookContainer) {{\n",
       "    x.observe(notebookContainer, {childList: true});\n",
       "}}\n",
       "\n",
       "// Listen for the clearing of the current output cell\n",
       "var outputEl = gd.closest('.output');\n",
       "if (outputEl) {{\n",
       "    x.observe(outputEl, {childList: true});\n",
       "}}\n",
       "\n",
       "                        })                };                });            </script>        </div>"
      ]
     },
     "metadata": {},
     "output_type": "display_data"
    }
   ],
   "source": [
    "fig = px.bar(rihanna_df, x='year', y='popularity',title = 'Total Popularity of song by year')\n",
    "fig.show()"
   ]
  },
  {
   "cell_type": "markdown",
   "id": "6a96c198",
   "metadata": {
    "papermill": {
     "duration": 0.008644,
     "end_time": "2022-06-17T22:17:35.691896",
     "exception": false,
     "start_time": "2022-06-17T22:17:35.683252",
     "status": "completed"
    },
    "tags": []
   },
   "source": [
    "### Sum of Popularity"
   ]
  },
  {
   "cell_type": "code",
   "execution_count": 9,
   "id": "67f3d3ad",
   "metadata": {
    "execution": {
     "iopub.execute_input": "2022-06-17T22:17:35.710360Z",
     "iopub.status.busy": "2022-06-17T22:17:35.709968Z",
     "iopub.status.idle": "2022-06-17T22:17:35.814192Z",
     "shell.execute_reply": "2022-06-17T22:17:35.813228Z"
    },
    "papermill": {
     "duration": 0.116131,
     "end_time": "2022-06-17T22:17:35.816476",
     "exception": false,
     "start_time": "2022-06-17T22:17:35.700345",
     "status": "completed"
    },
    "tags": []
   },
   "outputs": [
    {
     "data": {
      "text/html": [
       "<div>                            <div id=\"f18576af-7514-4e5e-9f70-ec0ac8bc6b98\" class=\"plotly-graph-div\" style=\"height:525px; width:100%;\"></div>            <script type=\"text/javascript\">                require([\"plotly\"], function(Plotly) {                    window.PLOTLYENV=window.PLOTLYENV || {};                                    if (document.getElementById(\"f18576af-7514-4e5e-9f70-ec0ac8bc6b98\")) {                    Plotly.newPlot(                        \"f18576af-7514-4e5e-9f70-ec0ac8bc6b98\",                        [{\"alignmentgroup\":\"True\",\"bingroup\":\"x\",\"histfunc\":\"sum\",\"hovertemplate\":\"year=%{x}<br>sum of popularity=%{y}<extra></extra>\",\"legendgroup\":\"\",\"marker\":{\"color\":\"#636efa\",\"pattern\":{\"shape\":\"\"}},\"name\":\"\",\"offsetgroup\":\"\",\"orientation\":\"v\",\"showlegend\":false,\"x\":[2005,2006,2006,2008,2008,2008,2008,2008,2009,2010,2009,2009,2009,2010,2010,2010,2011,2010,2011,2011,2012,2012,2015,2016,2016],\"xaxis\":\"x\",\"y\":[77,73,70,81,69,74,76,77,64,73,67,74,55,68,66,73,75,66,75,71,75,76,73,75,80],\"yaxis\":\"y\",\"type\":\"histogram\"}],                        {\"template\":{\"data\":{\"histogram2dcontour\":[{\"type\":\"histogram2dcontour\",\"colorbar\":{\"outlinewidth\":0,\"ticks\":\"\"},\"colorscale\":[[0.0,\"#0d0887\"],[0.1111111111111111,\"#46039f\"],[0.2222222222222222,\"#7201a8\"],[0.3333333333333333,\"#9c179e\"],[0.4444444444444444,\"#bd3786\"],[0.5555555555555556,\"#d8576b\"],[0.6666666666666666,\"#ed7953\"],[0.7777777777777778,\"#fb9f3a\"],[0.8888888888888888,\"#fdca26\"],[1.0,\"#f0f921\"]]}],\"choropleth\":[{\"type\":\"choropleth\",\"colorbar\":{\"outlinewidth\":0,\"ticks\":\"\"}}],\"histogram2d\":[{\"type\":\"histogram2d\",\"colorbar\":{\"outlinewidth\":0,\"ticks\":\"\"},\"colorscale\":[[0.0,\"#0d0887\"],[0.1111111111111111,\"#46039f\"],[0.2222222222222222,\"#7201a8\"],[0.3333333333333333,\"#9c179e\"],[0.4444444444444444,\"#bd3786\"],[0.5555555555555556,\"#d8576b\"],[0.6666666666666666,\"#ed7953\"],[0.7777777777777778,\"#fb9f3a\"],[0.8888888888888888,\"#fdca26\"],[1.0,\"#f0f921\"]]}],\"heatmap\":[{\"type\":\"heatmap\",\"colorbar\":{\"outlinewidth\":0,\"ticks\":\"\"},\"colorscale\":[[0.0,\"#0d0887\"],[0.1111111111111111,\"#46039f\"],[0.2222222222222222,\"#7201a8\"],[0.3333333333333333,\"#9c179e\"],[0.4444444444444444,\"#bd3786\"],[0.5555555555555556,\"#d8576b\"],[0.6666666666666666,\"#ed7953\"],[0.7777777777777778,\"#fb9f3a\"],[0.8888888888888888,\"#fdca26\"],[1.0,\"#f0f921\"]]}],\"heatmapgl\":[{\"type\":\"heatmapgl\",\"colorbar\":{\"outlinewidth\":0,\"ticks\":\"\"},\"colorscale\":[[0.0,\"#0d0887\"],[0.1111111111111111,\"#46039f\"],[0.2222222222222222,\"#7201a8\"],[0.3333333333333333,\"#9c179e\"],[0.4444444444444444,\"#bd3786\"],[0.5555555555555556,\"#d8576b\"],[0.6666666666666666,\"#ed7953\"],[0.7777777777777778,\"#fb9f3a\"],[0.8888888888888888,\"#fdca26\"],[1.0,\"#f0f921\"]]}],\"contourcarpet\":[{\"type\":\"contourcarpet\",\"colorbar\":{\"outlinewidth\":0,\"ticks\":\"\"}}],\"contour\":[{\"type\":\"contour\",\"colorbar\":{\"outlinewidth\":0,\"ticks\":\"\"},\"colorscale\":[[0.0,\"#0d0887\"],[0.1111111111111111,\"#46039f\"],[0.2222222222222222,\"#7201a8\"],[0.3333333333333333,\"#9c179e\"],[0.4444444444444444,\"#bd3786\"],[0.5555555555555556,\"#d8576b\"],[0.6666666666666666,\"#ed7953\"],[0.7777777777777778,\"#fb9f3a\"],[0.8888888888888888,\"#fdca26\"],[1.0,\"#f0f921\"]]}],\"surface\":[{\"type\":\"surface\",\"colorbar\":{\"outlinewidth\":0,\"ticks\":\"\"},\"colorscale\":[[0.0,\"#0d0887\"],[0.1111111111111111,\"#46039f\"],[0.2222222222222222,\"#7201a8\"],[0.3333333333333333,\"#9c179e\"],[0.4444444444444444,\"#bd3786\"],[0.5555555555555556,\"#d8576b\"],[0.6666666666666666,\"#ed7953\"],[0.7777777777777778,\"#fb9f3a\"],[0.8888888888888888,\"#fdca26\"],[1.0,\"#f0f921\"]]}],\"mesh3d\":[{\"type\":\"mesh3d\",\"colorbar\":{\"outlinewidth\":0,\"ticks\":\"\"}}],\"scatter\":[{\"fillpattern\":{\"fillmode\":\"overlay\",\"size\":10,\"solidity\":0.2},\"type\":\"scatter\"}],\"parcoords\":[{\"type\":\"parcoords\",\"line\":{\"colorbar\":{\"outlinewidth\":0,\"ticks\":\"\"}}}],\"scatterpolargl\":[{\"type\":\"scatterpolargl\",\"marker\":{\"colorbar\":{\"outlinewidth\":0,\"ticks\":\"\"}}}],\"bar\":[{\"error_x\":{\"color\":\"#2a3f5f\"},\"error_y\":{\"color\":\"#2a3f5f\"},\"marker\":{\"line\":{\"color\":\"#E5ECF6\",\"width\":0.5},\"pattern\":{\"fillmode\":\"overlay\",\"size\":10,\"solidity\":0.2}},\"type\":\"bar\"}],\"scattergeo\":[{\"type\":\"scattergeo\",\"marker\":{\"colorbar\":{\"outlinewidth\":0,\"ticks\":\"\"}}}],\"scatterpolar\":[{\"type\":\"scatterpolar\",\"marker\":{\"colorbar\":{\"outlinewidth\":0,\"ticks\":\"\"}}}],\"histogram\":[{\"marker\":{\"pattern\":{\"fillmode\":\"overlay\",\"size\":10,\"solidity\":0.2}},\"type\":\"histogram\"}],\"scattergl\":[{\"type\":\"scattergl\",\"marker\":{\"colorbar\":{\"outlinewidth\":0,\"ticks\":\"\"}}}],\"scatter3d\":[{\"type\":\"scatter3d\",\"line\":{\"colorbar\":{\"outlinewidth\":0,\"ticks\":\"\"}},\"marker\":{\"colorbar\":{\"outlinewidth\":0,\"ticks\":\"\"}}}],\"scattermapbox\":[{\"type\":\"scattermapbox\",\"marker\":{\"colorbar\":{\"outlinewidth\":0,\"ticks\":\"\"}}}],\"scatterternary\":[{\"type\":\"scatterternary\",\"marker\":{\"colorbar\":{\"outlinewidth\":0,\"ticks\":\"\"}}}],\"scattercarpet\":[{\"type\":\"scattercarpet\",\"marker\":{\"colorbar\":{\"outlinewidth\":0,\"ticks\":\"\"}}}],\"carpet\":[{\"aaxis\":{\"endlinecolor\":\"#2a3f5f\",\"gridcolor\":\"white\",\"linecolor\":\"white\",\"minorgridcolor\":\"white\",\"startlinecolor\":\"#2a3f5f\"},\"baxis\":{\"endlinecolor\":\"#2a3f5f\",\"gridcolor\":\"white\",\"linecolor\":\"white\",\"minorgridcolor\":\"white\",\"startlinecolor\":\"#2a3f5f\"},\"type\":\"carpet\"}],\"table\":[{\"cells\":{\"fill\":{\"color\":\"#EBF0F8\"},\"line\":{\"color\":\"white\"}},\"header\":{\"fill\":{\"color\":\"#C8D4E3\"},\"line\":{\"color\":\"white\"}},\"type\":\"table\"}],\"barpolar\":[{\"marker\":{\"line\":{\"color\":\"#E5ECF6\",\"width\":0.5},\"pattern\":{\"fillmode\":\"overlay\",\"size\":10,\"solidity\":0.2}},\"type\":\"barpolar\"}],\"pie\":[{\"automargin\":true,\"type\":\"pie\"}]},\"layout\":{\"autotypenumbers\":\"strict\",\"colorway\":[\"#636efa\",\"#EF553B\",\"#00cc96\",\"#ab63fa\",\"#FFA15A\",\"#19d3f3\",\"#FF6692\",\"#B6E880\",\"#FF97FF\",\"#FECB52\"],\"font\":{\"color\":\"#2a3f5f\"},\"hovermode\":\"closest\",\"hoverlabel\":{\"align\":\"left\"},\"paper_bgcolor\":\"white\",\"plot_bgcolor\":\"#E5ECF6\",\"polar\":{\"bgcolor\":\"#E5ECF6\",\"angularaxis\":{\"gridcolor\":\"white\",\"linecolor\":\"white\",\"ticks\":\"\"},\"radialaxis\":{\"gridcolor\":\"white\",\"linecolor\":\"white\",\"ticks\":\"\"}},\"ternary\":{\"bgcolor\":\"#E5ECF6\",\"aaxis\":{\"gridcolor\":\"white\",\"linecolor\":\"white\",\"ticks\":\"\"},\"baxis\":{\"gridcolor\":\"white\",\"linecolor\":\"white\",\"ticks\":\"\"},\"caxis\":{\"gridcolor\":\"white\",\"linecolor\":\"white\",\"ticks\":\"\"}},\"coloraxis\":{\"colorbar\":{\"outlinewidth\":0,\"ticks\":\"\"}},\"colorscale\":{\"sequential\":[[0.0,\"#0d0887\"],[0.1111111111111111,\"#46039f\"],[0.2222222222222222,\"#7201a8\"],[0.3333333333333333,\"#9c179e\"],[0.4444444444444444,\"#bd3786\"],[0.5555555555555556,\"#d8576b\"],[0.6666666666666666,\"#ed7953\"],[0.7777777777777778,\"#fb9f3a\"],[0.8888888888888888,\"#fdca26\"],[1.0,\"#f0f921\"]],\"sequentialminus\":[[0.0,\"#0d0887\"],[0.1111111111111111,\"#46039f\"],[0.2222222222222222,\"#7201a8\"],[0.3333333333333333,\"#9c179e\"],[0.4444444444444444,\"#bd3786\"],[0.5555555555555556,\"#d8576b\"],[0.6666666666666666,\"#ed7953\"],[0.7777777777777778,\"#fb9f3a\"],[0.8888888888888888,\"#fdca26\"],[1.0,\"#f0f921\"]],\"diverging\":[[0,\"#8e0152\"],[0.1,\"#c51b7d\"],[0.2,\"#de77ae\"],[0.3,\"#f1b6da\"],[0.4,\"#fde0ef\"],[0.5,\"#f7f7f7\"],[0.6,\"#e6f5d0\"],[0.7,\"#b8e186\"],[0.8,\"#7fbc41\"],[0.9,\"#4d9221\"],[1,\"#276419\"]]},\"xaxis\":{\"gridcolor\":\"white\",\"linecolor\":\"white\",\"ticks\":\"\",\"title\":{\"standoff\":15},\"zerolinecolor\":\"white\",\"automargin\":true,\"zerolinewidth\":2},\"yaxis\":{\"gridcolor\":\"white\",\"linecolor\":\"white\",\"ticks\":\"\",\"title\":{\"standoff\":15},\"zerolinecolor\":\"white\",\"automargin\":true,\"zerolinewidth\":2},\"scene\":{\"xaxis\":{\"backgroundcolor\":\"#E5ECF6\",\"gridcolor\":\"white\",\"linecolor\":\"white\",\"showbackground\":true,\"ticks\":\"\",\"zerolinecolor\":\"white\",\"gridwidth\":2},\"yaxis\":{\"backgroundcolor\":\"#E5ECF6\",\"gridcolor\":\"white\",\"linecolor\":\"white\",\"showbackground\":true,\"ticks\":\"\",\"zerolinecolor\":\"white\",\"gridwidth\":2},\"zaxis\":{\"backgroundcolor\":\"#E5ECF6\",\"gridcolor\":\"white\",\"linecolor\":\"white\",\"showbackground\":true,\"ticks\":\"\",\"zerolinecolor\":\"white\",\"gridwidth\":2}},\"shapedefaults\":{\"line\":{\"color\":\"#2a3f5f\"}},\"annotationdefaults\":{\"arrowcolor\":\"#2a3f5f\",\"arrowhead\":0,\"arrowwidth\":1},\"geo\":{\"bgcolor\":\"white\",\"landcolor\":\"#E5ECF6\",\"subunitcolor\":\"white\",\"showland\":true,\"showlakes\":true,\"lakecolor\":\"white\"},\"title\":{\"x\":0.05},\"mapbox\":{\"style\":\"light\"}}},\"xaxis\":{\"anchor\":\"y\",\"domain\":[0.0,1.0],\"title\":{\"text\":\"year\"}},\"yaxis\":{\"anchor\":\"x\",\"domain\":[0.0,1.0],\"title\":{\"text\":\"sum of popularity\"}},\"legend\":{\"tracegroupgap\":0},\"margin\":{\"t\":60},\"barmode\":\"relative\"},                        {\"responsive\": true}                    ).then(function(){\n",
       "                            \n",
       "var gd = document.getElementById('f18576af-7514-4e5e-9f70-ec0ac8bc6b98');\n",
       "var x = new MutationObserver(function (mutations, observer) {{\n",
       "        var display = window.getComputedStyle(gd).display;\n",
       "        if (!display || display === 'none') {{\n",
       "            console.log([gd, 'removed!']);\n",
       "            Plotly.purge(gd);\n",
       "            observer.disconnect();\n",
       "        }}\n",
       "}});\n",
       "\n",
       "// Listen for the removal of the full notebook cells\n",
       "var notebookContainer = gd.closest('#notebook-container');\n",
       "if (notebookContainer) {{\n",
       "    x.observe(notebookContainer, {childList: true});\n",
       "}}\n",
       "\n",
       "// Listen for the clearing of the current output cell\n",
       "var outputEl = gd.closest('.output');\n",
       "if (outputEl) {{\n",
       "    x.observe(outputEl, {childList: true});\n",
       "}}\n",
       "\n",
       "                        })                };                });            </script>        </div>"
      ]
     },
     "metadata": {},
     "output_type": "display_data"
    }
   ],
   "source": [
    "px.histogram(rihanna_df, x=\"year\", y=\"popularity\",\n",
    "                   hover_data=rihanna_df.columns)"
   ]
  },
  {
   "cell_type": "markdown",
   "id": "cd36b6b1",
   "metadata": {
    "papermill": {
     "duration": 0.00839,
     "end_time": "2022-06-17T22:17:35.833708",
     "exception": false,
     "start_time": "2022-06-17T22:17:35.825318",
     "status": "completed"
    },
    "tags": []
   },
   "source": [
    "<div class=\"alert alert-block alert-info\" style=\"font-size:16px; font-family:Helvetica;\">\n",
    "     📌 She's best music released in 2008, this may be the year of her ascension\n",
    "</div>"
   ]
  },
  {
   "cell_type": "markdown",
   "id": "3d804fde",
   "metadata": {
    "papermill": {
     "duration": 0.008483,
     "end_time": "2022-06-17T22:17:35.851011",
     "exception": false,
     "start_time": "2022-06-17T22:17:35.842528",
     "status": "completed"
    },
    "tags": []
   },
   "source": [
    "### Her first five Best Music 🥇"
   ]
  },
  {
   "cell_type": "code",
   "execution_count": 10,
   "id": "a702dd94",
   "metadata": {
    "execution": {
     "iopub.execute_input": "2022-06-17T22:17:35.870439Z",
     "iopub.status.busy": "2022-06-17T22:17:35.870028Z",
     "iopub.status.idle": "2022-06-17T22:17:35.881989Z",
     "shell.execute_reply": "2022-06-17T22:17:35.881289Z"
    },
    "papermill": {
     "duration": 0.024041,
     "end_time": "2022-06-17T22:17:35.883899",
     "exception": false,
     "start_time": "2022-06-17T22:17:35.859858",
     "status": "completed"
    },
    "tags": []
   },
   "outputs": [
    {
     "data": {
      "text/html": [
       "<div>\n",
       "<style scoped>\n",
       "    .dataframe tbody tr th:only-of-type {\n",
       "        vertical-align: middle;\n",
       "    }\n",
       "\n",
       "    .dataframe tbody tr th {\n",
       "        vertical-align: top;\n",
       "    }\n",
       "\n",
       "    .dataframe thead th {\n",
       "        text-align: right;\n",
       "    }\n",
       "</style>\n",
       "<table border=\"1\" class=\"dataframe\">\n",
       "  <thead>\n",
       "    <tr style=\"text-align: right;\">\n",
       "      <th></th>\n",
       "      <th>song</th>\n",
       "      <th>year</th>\n",
       "      <th>popularity</th>\n",
       "      <th>genre</th>\n",
       "    </tr>\n",
       "  </thead>\n",
       "  <tbody>\n",
       "    <tr>\n",
       "      <th>701</th>\n",
       "      <td>Umbrella</td>\n",
       "      <td>2008</td>\n",
       "      <td>81</td>\n",
       "      <td>hip hop, pop, R&amp;B</td>\n",
       "    </tr>\n",
       "    <tr>\n",
       "      <th>1636</th>\n",
       "      <td>Needed Me</td>\n",
       "      <td>2016</td>\n",
       "      <td>80</td>\n",
       "      <td>hip hop, pop, R&amp;B</td>\n",
       "    </tr>\n",
       "    <tr>\n",
       "      <th>819</th>\n",
       "      <td>Don't Stop The Music</td>\n",
       "      <td>2008</td>\n",
       "      <td>77</td>\n",
       "      <td>hip hop, pop, R&amp;B</td>\n",
       "    </tr>\n",
       "    <tr>\n",
       "      <th>503</th>\n",
       "      <td>Pon de Replay</td>\n",
       "      <td>2005</td>\n",
       "      <td>77</td>\n",
       "      <td>hip hop, pop, R&amp;B</td>\n",
       "    </tr>\n",
       "    <tr>\n",
       "      <th>811</th>\n",
       "      <td>Disturbia</td>\n",
       "      <td>2008</td>\n",
       "      <td>76</td>\n",
       "      <td>hip hop, pop, R&amp;B</td>\n",
       "    </tr>\n",
       "  </tbody>\n",
       "</table>\n",
       "</div>"
      ],
      "text/plain": [
       "                      song  year  popularity              genre\n",
       "701               Umbrella  2008          81  hip hop, pop, R&B\n",
       "1636             Needed Me  2016          80  hip hop, pop, R&B\n",
       "819   Don't Stop The Music  2008          77  hip hop, pop, R&B\n",
       "503          Pon de Replay  2005          77  hip hop, pop, R&B\n",
       "811              Disturbia  2008          76  hip hop, pop, R&B"
      ]
     },
     "execution_count": 10,
     "metadata": {},
     "output_type": "execute_result"
    }
   ],
   "source": [
    "rihanna_df = rihanna_df.sort_values('popularity',ascending=False)\n",
    "rihanna_df[['song','year','popularity','genre']].head()"
   ]
  },
  {
   "cell_type": "markdown",
   "id": "cfdc1d92",
   "metadata": {
    "papermill": {
     "duration": 0.008713,
     "end_time": "2022-06-17T22:17:35.902102",
     "exception": false,
     "start_time": "2022-06-17T22:17:35.893389",
     "status": "completed"
    },
    "tags": []
   },
   "source": [
    "### Compare she's best music with the best music of the whole dataset"
   ]
  },
  {
   "cell_type": "code",
   "execution_count": 11,
   "id": "a67ae241",
   "metadata": {
    "execution": {
     "iopub.execute_input": "2022-06-17T22:17:35.922417Z",
     "iopub.status.busy": "2022-06-17T22:17:35.921984Z",
     "iopub.status.idle": "2022-06-17T22:17:35.935859Z",
     "shell.execute_reply": "2022-06-17T22:17:35.934955Z"
    },
    "papermill": {
     "duration": 0.027093,
     "end_time": "2022-06-17T22:17:35.938177",
     "exception": false,
     "start_time": "2022-06-17T22:17:35.911084",
     "status": "completed"
    },
    "tags": []
   },
   "outputs": [
    {
     "data": {
      "text/html": [
       "<div>\n",
       "<style scoped>\n",
       "    .dataframe tbody tr th:only-of-type {\n",
       "        vertical-align: middle;\n",
       "    }\n",
       "\n",
       "    .dataframe tbody tr th {\n",
       "        vertical-align: top;\n",
       "    }\n",
       "\n",
       "    .dataframe thead th {\n",
       "        text-align: right;\n",
       "    }\n",
       "</style>\n",
       "<table border=\"1\" class=\"dataframe\">\n",
       "  <thead>\n",
       "    <tr style=\"text-align: right;\">\n",
       "      <th></th>\n",
       "      <th>artist</th>\n",
       "      <th>song</th>\n",
       "      <th>year</th>\n",
       "      <th>popularity</th>\n",
       "      <th>genre</th>\n",
       "    </tr>\n",
       "  </thead>\n",
       "  <tbody>\n",
       "    <tr>\n",
       "      <th>1322</th>\n",
       "      <td>The Neighbourhood</td>\n",
       "      <td>Sweater Weather</td>\n",
       "      <td>2013</td>\n",
       "      <td>89</td>\n",
       "      <td>rock, pop</td>\n",
       "    </tr>\n",
       "  </tbody>\n",
       "</table>\n",
       "</div>"
      ],
      "text/plain": [
       "                 artist             song  year  popularity      genre\n",
       "1322  The Neighbourhood  Sweater Weather  2013          89  rock, pop"
      ]
     },
     "execution_count": 11,
     "metadata": {},
     "output_type": "execute_result"
    }
   ],
   "source": [
    "max_popularity = df[df.popularity == max(df.popularity)]\n",
    "max_popularity[['artist','song','year','popularity','genre']]"
   ]
  },
  {
   "cell_type": "markdown",
   "id": "86ad4c9c",
   "metadata": {
    "execution": {
     "iopub.execute_input": "2022-06-17T22:08:52.362910Z",
     "iopub.status.busy": "2022-06-17T22:08:52.362405Z",
     "iopub.status.idle": "2022-06-17T22:08:52.369051Z",
     "shell.execute_reply": "2022-06-17T22:08:52.367994Z",
     "shell.execute_reply.started": "2022-06-17T22:08:52.362869Z"
    },
    "papermill": {
     "duration": 0.008729,
     "end_time": "2022-06-17T22:17:35.956050",
     "exception": false,
     "start_time": "2022-06-17T22:17:35.947321",
     "status": "completed"
    },
    "tags": []
   },
   "source": [
    "<div class=\"alert alert-block alert-info\" style=\"font-size:16px; font-family:Helvetica;\">\n",
    "     📌 This result dont tell us too much we may want to see the best music in the same genre which is hip hop,pop,R&B\n",
    "</div>"
   ]
  },
  {
   "cell_type": "code",
   "execution_count": 12,
   "id": "85966893",
   "metadata": {
    "execution": {
     "iopub.execute_input": "2022-06-17T22:17:35.976233Z",
     "iopub.status.busy": "2022-06-17T22:17:35.975445Z",
     "iopub.status.idle": "2022-06-17T22:17:35.990135Z",
     "shell.execute_reply": "2022-06-17T22:17:35.989127Z"
    },
    "papermill": {
     "duration": 0.027196,
     "end_time": "2022-06-17T22:17:35.992242",
     "exception": false,
     "start_time": "2022-06-17T22:17:35.965046",
     "status": "completed"
    },
    "tags": []
   },
   "outputs": [
    {
     "data": {
      "text/html": [
       "<div>\n",
       "<style scoped>\n",
       "    .dataframe tbody tr th:only-of-type {\n",
       "        vertical-align: middle;\n",
       "    }\n",
       "\n",
       "    .dataframe tbody tr th {\n",
       "        vertical-align: top;\n",
       "    }\n",
       "\n",
       "    .dataframe thead th {\n",
       "        text-align: right;\n",
       "    }\n",
       "</style>\n",
       "<table border=\"1\" class=\"dataframe\">\n",
       "  <thead>\n",
       "    <tr style=\"text-align: right;\">\n",
       "      <th></th>\n",
       "      <th>artist</th>\n",
       "      <th>song</th>\n",
       "      <th>year</th>\n",
       "      <th>popularity</th>\n",
       "      <th>genre</th>\n",
       "    </tr>\n",
       "  </thead>\n",
       "  <tbody>\n",
       "    <tr>\n",
       "      <th>1601</th>\n",
       "      <td>Drake</td>\n",
       "      <td>One Dance</td>\n",
       "      <td>2016</td>\n",
       "      <td>84</td>\n",
       "      <td>hip hop, pop, R&amp;B</td>\n",
       "    </tr>\n",
       "  </tbody>\n",
       "</table>\n",
       "</div>"
      ],
      "text/plain": [
       "     artist       song  year  popularity              genre\n",
       "1601  Drake  One Dance  2016          84  hip hop, pop, R&B"
      ]
     },
     "execution_count": 12,
     "metadata": {},
     "output_type": "execute_result"
    }
   ],
   "source": [
    "max_popularity = df[df.genre == 'hip hop, pop, R&B']\n",
    "max_popularity.sort_values('popularity',ascending=False).head(1)[['artist','song','year','popularity','genre']]"
   ]
  },
  {
   "cell_type": "markdown",
   "id": "e0ad6d0a",
   "metadata": {
    "execution": {
     "iopub.execute_input": "2022-06-17T22:16:26.384369Z",
     "iopub.status.busy": "2022-06-17T22:16:26.383933Z",
     "iopub.status.idle": "2022-06-17T22:16:26.391683Z",
     "shell.execute_reply": "2022-06-17T22:16:26.390240Z",
     "shell.execute_reply.started": "2022-06-17T22:16:26.384335Z"
    },
    "papermill": {
     "duration": 0.009109,
     "end_time": "2022-06-17T22:17:36.010586",
     "exception": false,
     "start_time": "2022-06-17T22:17:36.001477",
     "status": "completed"
    },
    "tags": []
   },
   "source": [
    "<div class=\"alert alert-block alert-info\" style=\"font-size:16px; font-family:Helvetica;\">\n",
    "     📌 We can see drake that surpass rihanna in 2016 with the song One Dance and a popularity of 84\n",
    "</div>"
   ]
  },
  {
   "cell_type": "code",
   "execution_count": null,
   "id": "49c6f434",
   "metadata": {
    "papermill": {
     "duration": 0.009261,
     "end_time": "2022-06-17T22:17:36.030041",
     "exception": false,
     "start_time": "2022-06-17T22:17:36.020780",
     "status": "completed"
    },
    "tags": []
   },
   "outputs": [],
   "source": []
  }
 ],
 "metadata": {
  "kernelspec": {
   "display_name": "Python 3",
   "language": "python",
   "name": "python3"
  },
  "language_info": {
   "codemirror_mode": {
    "name": "ipython",
    "version": 3
   },
   "file_extension": ".py",
   "mimetype": "text/x-python",
   "name": "python",
   "nbconvert_exporter": "python",
   "pygments_lexer": "ipython3",
   "version": "3.7.12"
  },
  "papermill": {
   "default_parameters": {},
   "duration": 15.826527,
   "end_time": "2022-06-17T22:17:36.861372",
   "environment_variables": {},
   "exception": null,
   "input_path": "__notebook__.ipynb",
   "output_path": "__notebook__.ipynb",
   "parameters": {},
   "start_time": "2022-06-17T22:17:21.034845",
   "version": "2.3.4"
  }
 },
 "nbformat": 4,
 "nbformat_minor": 5
}
