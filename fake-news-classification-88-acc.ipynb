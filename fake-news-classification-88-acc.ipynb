{
 "cells": [
  {
   "cell_type": "code",
   "execution_count": 1,
   "id": "d3c4cb4a",
   "metadata": {
    "execution": {
     "iopub.execute_input": "2022-04-19T14:47:22.368400Z",
     "iopub.status.busy": "2022-04-19T14:47:22.367850Z",
     "iopub.status.idle": "2022-04-19T14:47:29.758049Z",
     "shell.execute_reply": "2022-04-19T14:47:29.756865Z"
    },
    "papermill": {
     "duration": 7.423754,
     "end_time": "2022-04-19T14:47:29.760829",
     "exception": false,
     "start_time": "2022-04-19T14:47:22.337075",
     "status": "completed"
    },
    "tags": []
   },
   "outputs": [],
   "source": [
    "import tensorflow as tf\n",
    "\n",
    "from tensorflow.keras.preprocessing.text import Tokenizer\n",
    "import pandas as pd \n",
    "import numpy as np\n",
    "from tensorflow.keras.preprocessing.sequence import pad_sequences"
   ]
  },
  {
   "cell_type": "code",
   "execution_count": 2,
   "id": "853d827a",
   "metadata": {
    "execution": {
     "iopub.execute_input": "2022-04-19T14:47:29.812827Z",
     "iopub.status.busy": "2022-04-19T14:47:29.812471Z",
     "iopub.status.idle": "2022-04-19T14:47:36.147671Z",
     "shell.execute_reply": "2022-04-19T14:47:36.146505Z"
    },
    "papermill": {
     "duration": 6.364442,
     "end_time": "2022-04-19T14:47:36.150585",
     "exception": false,
     "start_time": "2022-04-19T14:47:29.786143",
     "status": "completed"
    },
    "tags": []
   },
   "outputs": [
    {
     "data": {
      "text/html": [
       "<div>\n",
       "<style scoped>\n",
       "    .dataframe tbody tr th:only-of-type {\n",
       "        vertical-align: middle;\n",
       "    }\n",
       "\n",
       "    .dataframe tbody tr th {\n",
       "        vertical-align: top;\n",
       "    }\n",
       "\n",
       "    .dataframe thead th {\n",
       "        text-align: right;\n",
       "    }\n",
       "</style>\n",
       "<table border=\"1\" class=\"dataframe\">\n",
       "  <thead>\n",
       "    <tr style=\"text-align: right;\">\n",
       "      <th></th>\n",
       "      <th>Unnamed: 0</th>\n",
       "      <th>title</th>\n",
       "      <th>text</th>\n",
       "      <th>label</th>\n",
       "    </tr>\n",
       "  </thead>\n",
       "  <tbody>\n",
       "    <tr>\n",
       "      <th>0</th>\n",
       "      <td>0</td>\n",
       "      <td>LAW ENFORCEMENT ON HIGH ALERT Following Threat...</td>\n",
       "      <td>No comment is expected from Barack Obama Membe...</td>\n",
       "      <td>1</td>\n",
       "    </tr>\n",
       "    <tr>\n",
       "      <th>1</th>\n",
       "      <td>1</td>\n",
       "      <td>NaN</td>\n",
       "      <td>Did they post their votes for Hillary already?</td>\n",
       "      <td>1</td>\n",
       "    </tr>\n",
       "    <tr>\n",
       "      <th>2</th>\n",
       "      <td>2</td>\n",
       "      <td>UNBELIEVABLE! OBAMA’S ATTORNEY GENERAL SAYS MO...</td>\n",
       "      <td>Now, most of the demonstrators gathered last ...</td>\n",
       "      <td>1</td>\n",
       "    </tr>\n",
       "    <tr>\n",
       "      <th>3</th>\n",
       "      <td>3</td>\n",
       "      <td>Bobby Jindal, raised Hindu, uses story of Chri...</td>\n",
       "      <td>A dozen politically active pastors came here f...</td>\n",
       "      <td>0</td>\n",
       "    </tr>\n",
       "    <tr>\n",
       "      <th>4</th>\n",
       "      <td>4</td>\n",
       "      <td>SATAN 2: Russia unvelis an image of its terrif...</td>\n",
       "      <td>The RS-28 Sarmat missile, dubbed Satan 2, will...</td>\n",
       "      <td>1</td>\n",
       "    </tr>\n",
       "  </tbody>\n",
       "</table>\n",
       "</div>"
      ],
      "text/plain": [
       "   Unnamed: 0                                              title  \\\n",
       "0           0  LAW ENFORCEMENT ON HIGH ALERT Following Threat...   \n",
       "1           1                                                NaN   \n",
       "2           2  UNBELIEVABLE! OBAMA’S ATTORNEY GENERAL SAYS MO...   \n",
       "3           3  Bobby Jindal, raised Hindu, uses story of Chri...   \n",
       "4           4  SATAN 2: Russia unvelis an image of its terrif...   \n",
       "\n",
       "                                                text  label  \n",
       "0  No comment is expected from Barack Obama Membe...      1  \n",
       "1     Did they post their votes for Hillary already?      1  \n",
       "2   Now, most of the demonstrators gathered last ...      1  \n",
       "3  A dozen politically active pastors came here f...      0  \n",
       "4  The RS-28 Sarmat missile, dubbed Satan 2, will...      1  "
      ]
     },
     "execution_count": 2,
     "metadata": {},
     "output_type": "execute_result"
    }
   ],
   "source": [
    "df = pd.read_csv('../input/fake-news-classification/WELFake_Dataset.csv')\n",
    "df.head()"
   ]
  },
  {
   "cell_type": "code",
   "execution_count": 3,
   "id": "62c15b5b",
   "metadata": {
    "execution": {
     "iopub.execute_input": "2022-04-19T14:47:36.205326Z",
     "iopub.status.busy": "2022-04-19T14:47:36.204985Z",
     "iopub.status.idle": "2022-04-19T14:47:36.259396Z",
     "shell.execute_reply": "2022-04-19T14:47:36.258121Z"
    },
    "papermill": {
     "duration": 0.085242,
     "end_time": "2022-04-19T14:47:36.262818",
     "exception": false,
     "start_time": "2022-04-19T14:47:36.177576",
     "status": "completed"
    },
    "tags": []
   },
   "outputs": [
    {
     "name": "stdout",
     "output_type": "stream",
     "text": [
      "<class 'pandas.core.frame.DataFrame'>\n",
      "RangeIndex: 72134 entries, 0 to 72133\n",
      "Data columns (total 4 columns):\n",
      " #   Column      Non-Null Count  Dtype \n",
      "---  ------      --------------  ----- \n",
      " 0   Unnamed: 0  72134 non-null  int64 \n",
      " 1   title       71576 non-null  object\n",
      " 2   text        72095 non-null  object\n",
      " 3   label       72134 non-null  int64 \n",
      "dtypes: int64(2), object(2)\n",
      "memory usage: 2.2+ MB\n"
     ]
    }
   ],
   "source": [
    "df.info()"
   ]
  },
  {
   "cell_type": "code",
   "execution_count": 4,
   "id": "2d42956b",
   "metadata": {
    "execution": {
     "iopub.execute_input": "2022-04-19T14:47:36.319400Z",
     "iopub.status.busy": "2022-04-19T14:47:36.319019Z",
     "iopub.status.idle": "2022-04-19T14:47:36.357961Z",
     "shell.execute_reply": "2022-04-19T14:47:36.356969Z"
    },
    "papermill": {
     "duration": 0.069654,
     "end_time": "2022-04-19T14:47:36.359970",
     "exception": false,
     "start_time": "2022-04-19T14:47:36.290316",
     "status": "completed"
    },
    "tags": []
   },
   "outputs": [
    {
     "data": {
      "text/plain": [
       "Unnamed: 0      0\n",
       "title         558\n",
       "text           39\n",
       "label           0\n",
       "dtype: int64"
      ]
     },
     "execution_count": 4,
     "metadata": {},
     "output_type": "execute_result"
    }
   ],
   "source": [
    "df.isnull().sum()"
   ]
  },
  {
   "cell_type": "markdown",
   "id": "c4e57702",
   "metadata": {
    "papermill": {
     "duration": 0.025975,
     "end_time": "2022-04-19T14:47:36.412128",
     "exception": false,
     "start_time": "2022-04-19T14:47:36.386153",
     "status": "completed"
    },
    "tags": []
   },
   "source": [
    "delete nan values "
   ]
  },
  {
   "cell_type": "code",
   "execution_count": 5,
   "id": "12ca1179",
   "metadata": {
    "execution": {
     "iopub.execute_input": "2022-04-19T14:47:36.467121Z",
     "iopub.status.busy": "2022-04-19T14:47:36.466032Z",
     "iopub.status.idle": "2022-04-19T14:47:36.513398Z",
     "shell.execute_reply": "2022-04-19T14:47:36.512257Z"
    },
    "papermill": {
     "duration": 0.077731,
     "end_time": "2022-04-19T14:47:36.516117",
     "exception": false,
     "start_time": "2022-04-19T14:47:36.438386",
     "status": "completed"
    },
    "tags": []
   },
   "outputs": [],
   "source": [
    "df.dropna(inplace=True)"
   ]
  },
  {
   "cell_type": "code",
   "execution_count": 6,
   "id": "6b3897ba",
   "metadata": {
    "execution": {
     "iopub.execute_input": "2022-04-19T14:47:36.574945Z",
     "iopub.status.busy": "2022-04-19T14:47:36.574636Z",
     "iopub.status.idle": "2022-04-19T14:47:36.593979Z",
     "shell.execute_reply": "2022-04-19T14:47:36.593103Z"
    },
    "papermill": {
     "duration": 0.049484,
     "end_time": "2022-04-19T14:47:36.596001",
     "exception": false,
     "start_time": "2022-04-19T14:47:36.546517",
     "status": "completed"
    },
    "tags": []
   },
   "outputs": [
    {
     "data": {
      "text/plain": [
       "['LAW ENFORCEMENT ON HIGH ALERT Following Threats Against Cops And Whites On 9-11By #BlackLivesMatter And #FYF911 Terrorists [VIDEO]',\n",
       " 'UNBELIEVABLE! OBAMA’S ATTORNEY GENERAL SAYS MOST CHARLOTTE RIOTERS WERE “PEACEFUL” PROTESTERS…In Her Home State Of North Carolina [VIDEO]',\n",
       " 'Bobby Jindal, raised Hindu, uses story of Christian conversion to woo evangelicals for potential 2016 bid',\n",
       " 'SATAN 2: Russia unvelis an image of its terrifying new ‘SUPERNUKE’ – Western world takes notice',\n",
       " 'About Time! Christian Group Sues Amazon and SPLC for Designation as Hate Group']"
      ]
     },
     "execution_count": 6,
     "metadata": {},
     "output_type": "execute_result"
    }
   ],
   "source": [
    "title = df['title'].tolist()\n",
    "text = df[\"text\"].tolist()\n",
    "labels = df['label'].tolist()\n",
    "title[:5]"
   ]
  },
  {
   "cell_type": "markdown",
   "id": "5f75f243",
   "metadata": {
    "papermill": {
     "duration": 0.027711,
     "end_time": "2022-04-19T14:47:36.650565",
     "exception": false,
     "start_time": "2022-04-19T14:47:36.622854",
     "status": "completed"
    },
    "tags": []
   },
   "source": [
    "#### Make training and testing set with 80% of training"
   ]
  },
  {
   "cell_type": "code",
   "execution_count": 7,
   "id": "0f6aeed9",
   "metadata": {
    "execution": {
     "iopub.execute_input": "2022-04-19T14:47:36.706077Z",
     "iopub.status.busy": "2022-04-19T14:47:36.705753Z",
     "iopub.status.idle": "2022-04-19T14:47:36.737663Z",
     "shell.execute_reply": "2022-04-19T14:47:36.736522Z"
    },
    "papermill": {
     "duration": 0.062747,
     "end_time": "2022-04-19T14:47:36.740260",
     "exception": false,
     "start_time": "2022-04-19T14:47:36.677513",
     "status": "completed"
    },
    "tags": []
   },
   "outputs": [
    {
     "data": {
      "text/plain": [
       "(57229, 14308)"
      ]
     },
     "execution_count": 7,
     "metadata": {},
     "output_type": "execute_result"
    }
   ],
   "source": [
    "training_size = int(len(title) * 0.8)\n",
    "\n",
    "training_sentences = title[0:training_size]\n",
    "testing_sentences = title[training_size:]\n",
    "\n",
    "training_labels = labels[0:training_size]\n",
    "testing_labels = labels[training_size:]\n",
    "\n",
    "# Make labels into numpy arrays for use with the network later\n",
    "training_labels_final = np.array(training_labels)\n",
    "testing_labels_final = np.array(testing_labels)\n",
    "\n",
    "len(training_sentences),len(testing_sentences)"
   ]
  },
  {
   "cell_type": "code",
   "execution_count": 8,
   "id": "08a3a4ff",
   "metadata": {
    "execution": {
     "iopub.execute_input": "2022-04-19T14:47:36.797900Z",
     "iopub.status.busy": "2022-04-19T14:47:36.797611Z",
     "iopub.status.idle": "2022-04-19T14:47:40.115510Z",
     "shell.execute_reply": "2022-04-19T14:47:40.114702Z"
    },
    "papermill": {
     "duration": 3.349301,
     "end_time": "2022-04-19T14:47:40.118138",
     "exception": false,
     "start_time": "2022-04-19T14:47:36.768837",
     "status": "completed"
    },
    "tags": []
   },
   "outputs": [],
   "source": [
    "vocab_size = 500\n",
    "embedding_dim = 16\n",
    "max_length = 50\n",
    "trunc_type='post'\n",
    "padding_type='post'\n",
    "oov_tok = \"<OOV>\"\n",
    "\n",
    "tokenizer = Tokenizer(num_words = vocab_size, oov_token=oov_tok)\n",
    "tokenizer.fit_on_texts(training_sentences)\n",
    "word_index = tokenizer.word_index\n",
    "\n",
    "training_sequences = tokenizer.texts_to_sequences(training_sentences)\n",
    "training_padded = pad_sequences(training_sequences, maxlen=max_length, padding=padding_type, truncating=trunc_type)\n",
    "\n",
    "testing_sequences = tokenizer.texts_to_sequences(testing_sentences)\n",
    "testing_padded = pad_sequences(testing_sequences, maxlen=max_length, padding=padding_type, truncating=trunc_type)"
   ]
  },
  {
   "cell_type": "code",
   "execution_count": 9,
   "id": "753a07f9",
   "metadata": {
    "execution": {
     "iopub.execute_input": "2022-04-19T14:47:40.175969Z",
     "iopub.status.busy": "2022-04-19T14:47:40.175667Z",
     "iopub.status.idle": "2022-04-19T14:47:40.180056Z",
     "shell.execute_reply": "2022-04-19T14:47:40.179116Z"
    },
    "papermill": {
     "duration": 0.036615,
     "end_time": "2022-04-19T14:47:40.182302",
     "exception": false,
     "start_time": "2022-04-19T14:47:40.145687",
     "status": "completed"
    },
    "tags": []
   },
   "outputs": [],
   "source": [
    "#word_index"
   ]
  },
  {
   "cell_type": "markdown",
   "id": "4dde7d8c",
   "metadata": {
    "papermill": {
     "duration": 0.027088,
     "end_time": "2022-04-19T14:47:40.237130",
     "exception": false,
     "start_time": "2022-04-19T14:47:40.210042",
     "status": "completed"
    },
    "tags": []
   },
   "source": [
    "### Word index give us the references of each word \n",
    "<code>\n",
    "{'OOV': 1,\n",
    " 'to': 2,\n",
    " 'the': 3,\n",
    " 'trump': 4,\n",
    " 'in': 5,\n",
    " 'of': 6,\n",
    " 'for': 7,\n",
    " 'on': 8,\n",
    " 'new': 9,\n",
    " 'video': 10,\n",
    " 'a': 11,\n",
    " 'and': 12,\n",
    " 'york': 13,\n",
    " 'times': 14,\n",
    "    </code>"
   ]
  },
  {
   "cell_type": "code",
   "execution_count": 10,
   "id": "39c90b7c",
   "metadata": {
    "execution": {
     "iopub.execute_input": "2022-04-19T14:47:40.294598Z",
     "iopub.status.busy": "2022-04-19T14:47:40.294098Z",
     "iopub.status.idle": "2022-04-19T14:47:40.310574Z",
     "shell.execute_reply": "2022-04-19T14:47:40.309825Z"
    },
    "papermill": {
     "duration": 0.048015,
     "end_time": "2022-04-19T14:47:40.312916",
     "exception": false,
     "start_time": "2022-04-19T14:47:40.264901",
     "status": "completed"
    },
    "tags": []
   },
   "outputs": [],
   "source": [
    "reversed_index = [ (value,key) for (key,value) in word_index.items()] "
   ]
  },
  {
   "cell_type": "markdown",
   "id": "74ebf6d4",
   "metadata": {
    "papermill": {
     "duration": 0.027076,
     "end_time": "2022-04-19T14:47:40.367253",
     "exception": false,
     "start_time": "2022-04-19T14:47:40.340177",
     "status": "completed"
    },
    "tags": []
   },
   "source": [
    "### we got something like this after reversed the word index \n",
    "<code>\n",
    "[(1, 'OOV'),\n",
    " (2, 'to'),\n",
    " (3, 'the'),\n",
    " (4, 'trump'),\n",
    " (5, 'in'),\n",
    " (6, 'of'),\n",
    " (7, 'for'),\n",
    " (8, 'on'),\n",
    " (9, 'new'),\n",
    " (10, 'video'),\n",
    " (11, 'a'),\n",
    " (12, 'and'),\n",
    " (13, 'york'),\n",
    " (14, 'times'),\n",
    " (15, 'u'),\n",
    " (16, 'is'),\n",
    " (17, 's'),\n",
    " (18, 'with'),\n",
    " (19, 'says'),\n",
    " (20, 'at'),\n",
    " (21, 'hillary'),\n",
    "</code>"
   ]
  },
  {
   "cell_type": "code",
   "execution_count": 11,
   "id": "0a6389ee",
   "metadata": {
    "execution": {
     "iopub.execute_input": "2022-04-19T14:47:40.424114Z",
     "iopub.status.busy": "2022-04-19T14:47:40.423647Z",
     "iopub.status.idle": "2022-04-19T14:47:40.430776Z",
     "shell.execute_reply": "2022-04-19T14:47:40.429767Z"
    },
    "papermill": {
     "duration": 0.038053,
     "end_time": "2022-04-19T14:47:40.432671",
     "exception": false,
     "start_time": "2022-04-19T14:47:40.394618",
     "status": "completed"
    },
    "tags": []
   },
   "outputs": [
    {
     "data": {
      "text/plain": [
       "[[127, 1, 8, 354, 1, 1, 1, 59, 433, 12, 1, 8, 355, 1, 1, 12, 1, 1, 10],\n",
       " [1, 110, 420, 318, 19, 199, 1, 1, 421, 1, 1, 63, 362, 54, 6, 66, 1, 10],\n",
       " [1, 1, 1, 1, 1, 442, 6, 1, 1, 2, 1, 1, 7, 1, 158, 1],\n",
       " [1, 224, 48, 1, 88, 483, 6, 262, 1, 9, 1, 56, 1, 122, 273, 1],\n",
       " [29, 147, 1, 284, 1, 1, 12, 1, 7, 1, 25, 468, 284]]"
      ]
     },
     "execution_count": 11,
     "metadata": {},
     "output_type": "execute_result"
    }
   ],
   "source": [
    "training_sequences[:5]"
   ]
  },
  {
   "cell_type": "code",
   "execution_count": 12,
   "id": "5141c85a",
   "metadata": {
    "execution": {
     "iopub.execute_input": "2022-04-19T14:47:40.490713Z",
     "iopub.status.busy": "2022-04-19T14:47:40.490069Z",
     "iopub.status.idle": "2022-04-19T14:47:40.499440Z",
     "shell.execute_reply": "2022-04-19T14:47:40.498743Z"
    },
    "papermill": {
     "duration": 0.040452,
     "end_time": "2022-04-19T14:47:40.501301",
     "exception": false,
     "start_time": "2022-04-19T14:47:40.460849",
     "status": "completed"
    },
    "tags": []
   },
   "outputs": [
    {
     "data": {
      "text/plain": [
       "'day to new 9 to to to what pence york to new re to to york to to a '"
      ]
     },
     "execution_count": 12,
     "metadata": {},
     "output_type": "execute_result"
    }
   ],
   "source": [
    "text = \"\"\n",
    "for i in range(len(training_sequences[0])):\n",
    "    text += reversed_index[training_sequences[0][i]][1]\n",
    "    text += \" \"\n",
    "text    "
   ]
  },
  {
   "cell_type": "markdown",
   "id": "190e05e2",
   "metadata": {
    "papermill": {
     "duration": 0.027957,
     "end_time": "2022-04-19T14:47:40.557419",
     "exception": false,
     "start_time": "2022-04-19T14:47:40.529462",
     "status": "completed"
    },
    "tags": []
   },
   "source": [
    "### We will make prediction with two different features firstly a prediction with only the title then a prediction with the text to see which preform the best "
   ]
  },
  {
   "cell_type": "code",
   "execution_count": 13,
   "id": "a2e217b5",
   "metadata": {
    "execution": {
     "iopub.execute_input": "2022-04-19T14:47:40.616259Z",
     "iopub.status.busy": "2022-04-19T14:47:40.615379Z",
     "iopub.status.idle": "2022-04-19T14:47:41.045711Z",
     "shell.execute_reply": "2022-04-19T14:47:41.044370Z"
    },
    "papermill": {
     "duration": 0.462487,
     "end_time": "2022-04-19T14:47:41.048452",
     "exception": false,
     "start_time": "2022-04-19T14:47:40.585965",
     "status": "completed"
    },
    "tags": []
   },
   "outputs": [
    {
     "name": "stderr",
     "output_type": "stream",
     "text": [
      "2022-04-19 14:47:40.668262: I tensorflow/core/common_runtime/process_util.cc:146] Creating new thread pool with default inter op setting: 2. Tune using inter_op_parallelism_threads for best performance.\n"
     ]
    },
    {
     "name": "stdout",
     "output_type": "stream",
     "text": [
      "Model: \"sequential\"\n",
      "_________________________________________________________________\n",
      "Layer (type)                 Output Shape              Param #   \n",
      "=================================================================\n",
      "embedding (Embedding)        (None, 50, 16)            8000      \n",
      "_________________________________________________________________\n",
      "global_average_pooling1d (Gl (None, 16)                0         \n",
      "_________________________________________________________________\n",
      "dense (Dense)                (None, 6)                 102       \n",
      "_________________________________________________________________\n",
      "dense_1 (Dense)              (None, 1)                 7         \n",
      "=================================================================\n",
      "Total params: 8,109\n",
      "Trainable params: 8,109\n",
      "Non-trainable params: 0\n",
      "_________________________________________________________________\n"
     ]
    }
   ],
   "source": [
    "model = tf.keras.Sequential([\n",
    "    tf.keras.layers.Embedding(vocab_size, embedding_dim, input_length=max_length),\n",
    "    tf.keras.layers.GlobalAveragePooling1D(),\n",
    "    tf.keras.layers.Dense(6, activation='relu'),\n",
    "    tf.keras.layers.Dense(1, activation='sigmoid')\n",
    "])\n",
    "model.compile(loss='binary_crossentropy',optimizer='adam',metrics=['accuracy'])\n",
    "model.summary()"
   ]
  },
  {
   "cell_type": "code",
   "execution_count": 14,
   "id": "ecaaea1d",
   "metadata": {
    "execution": {
     "iopub.execute_input": "2022-04-19T14:47:41.111365Z",
     "iopub.status.busy": "2022-04-19T14:47:41.111032Z",
     "iopub.status.idle": "2022-04-19T14:49:36.804295Z",
     "shell.execute_reply": "2022-04-19T14:49:36.803594Z"
    },
    "papermill": {
     "duration": 115.728501,
     "end_time": "2022-04-19T14:49:36.806406",
     "exception": false,
     "start_time": "2022-04-19T14:47:41.077905",
     "status": "completed"
    },
    "tags": []
   },
   "outputs": [
    {
     "name": "stderr",
     "output_type": "stream",
     "text": [
      "2022-04-19 14:47:41.225591: I tensorflow/compiler/mlir/mlir_graph_optimization_pass.cc:185] None of the MLIR Optimization Passes are enabled (registered 2)\n"
     ]
    },
    {
     "name": "stdout",
     "output_type": "stream",
     "text": [
      "Epoch 1/30\n",
      "1789/1789 [==============================] - 5s 2ms/step - loss: 0.4224 - accuracy: 0.8207 - val_loss: 0.3199 - val_accuracy: 0.8601\n",
      "Epoch 2/30\n",
      "1789/1789 [==============================] - 4s 2ms/step - loss: 0.2973 - accuracy: 0.8692 - val_loss: 0.3017 - val_accuracy: 0.8664\n",
      "Epoch 3/30\n",
      "1789/1789 [==============================] - 4s 2ms/step - loss: 0.2897 - accuracy: 0.8730 - val_loss: 0.3003 - val_accuracy: 0.8679\n",
      "Epoch 4/30\n",
      "1789/1789 [==============================] - 4s 2ms/step - loss: 0.2877 - accuracy: 0.8734 - val_loss: 0.3007 - val_accuracy: 0.8655\n",
      "Epoch 5/30\n",
      "1789/1789 [==============================] - 4s 2ms/step - loss: 0.2866 - accuracy: 0.8731 - val_loss: 0.2987 - val_accuracy: 0.8673\n",
      "Epoch 6/30\n",
      "1789/1789 [==============================] - 4s 2ms/step - loss: 0.2861 - accuracy: 0.8734 - val_loss: 0.2986 - val_accuracy: 0.8686\n",
      "Epoch 7/30\n",
      "1789/1789 [==============================] - 4s 2ms/step - loss: 0.2854 - accuracy: 0.8752 - val_loss: 0.3026 - val_accuracy: 0.8671\n",
      "Epoch 8/30\n",
      "1789/1789 [==============================] - 4s 2ms/step - loss: 0.2846 - accuracy: 0.8758 - val_loss: 0.2978 - val_accuracy: 0.8688\n",
      "Epoch 9/30\n",
      "1789/1789 [==============================] - 4s 2ms/step - loss: 0.2842 - accuracy: 0.8758 - val_loss: 0.3000 - val_accuracy: 0.8687\n",
      "Epoch 10/30\n",
      "1789/1789 [==============================] - 4s 2ms/step - loss: 0.2835 - accuracy: 0.8765 - val_loss: 0.2969 - val_accuracy: 0.8695\n",
      "Epoch 11/30\n",
      "1789/1789 [==============================] - 4s 2ms/step - loss: 0.2829 - accuracy: 0.8759 - val_loss: 0.3058 - val_accuracy: 0.8653\n",
      "Epoch 12/30\n",
      "1789/1789 [==============================] - 4s 2ms/step - loss: 0.2819 - accuracy: 0.8769 - val_loss: 0.2955 - val_accuracy: 0.8706\n",
      "Epoch 13/30\n",
      "1789/1789 [==============================] - 4s 2ms/step - loss: 0.2795 - accuracy: 0.8782 - val_loss: 0.2933 - val_accuracy: 0.8715\n",
      "Epoch 14/30\n",
      "1789/1789 [==============================] - 4s 2ms/step - loss: 0.2775 - accuracy: 0.8796 - val_loss: 0.2930 - val_accuracy: 0.8693\n",
      "Epoch 15/30\n",
      "1789/1789 [==============================] - 4s 2ms/step - loss: 0.2750 - accuracy: 0.8813 - val_loss: 0.2874 - val_accuracy: 0.8747\n",
      "Epoch 16/30\n",
      "1789/1789 [==============================] - 4s 2ms/step - loss: 0.2727 - accuracy: 0.8822 - val_loss: 0.2854 - val_accuracy: 0.8758\n",
      "Epoch 17/30\n",
      "1789/1789 [==============================] - 4s 2ms/step - loss: 0.2704 - accuracy: 0.8839 - val_loss: 0.2831 - val_accuracy: 0.8768\n",
      "Epoch 18/30\n",
      "1789/1789 [==============================] - 4s 2ms/step - loss: 0.2680 - accuracy: 0.8846 - val_loss: 0.2866 - val_accuracy: 0.8736\n",
      "Epoch 19/30\n",
      "1789/1789 [==============================] - 4s 2ms/step - loss: 0.2658 - accuracy: 0.8854 - val_loss: 0.2790 - val_accuracy: 0.8801\n",
      "Epoch 20/30\n",
      "1789/1789 [==============================] - 4s 2ms/step - loss: 0.2638 - accuracy: 0.8870 - val_loss: 0.2774 - val_accuracy: 0.8796\n",
      "Epoch 21/30\n",
      "1789/1789 [==============================] - 4s 2ms/step - loss: 0.2615 - accuracy: 0.8893 - val_loss: 0.2757 - val_accuracy: 0.8811\n",
      "Epoch 22/30\n",
      "1789/1789 [==============================] - 4s 2ms/step - loss: 0.2595 - accuracy: 0.8903 - val_loss: 0.2736 - val_accuracy: 0.8830\n",
      "Epoch 23/30\n",
      "1789/1789 [==============================] - 4s 2ms/step - loss: 0.2575 - accuracy: 0.8909 - val_loss: 0.2736 - val_accuracy: 0.8831\n",
      "Epoch 24/30\n",
      "1789/1789 [==============================] - 4s 2ms/step - loss: 0.2553 - accuracy: 0.8929 - val_loss: 0.2701 - val_accuracy: 0.8866\n",
      "Epoch 25/30\n",
      "1789/1789 [==============================] - 4s 2ms/step - loss: 0.2533 - accuracy: 0.8935 - val_loss: 0.2686 - val_accuracy: 0.8873\n",
      "Epoch 26/30\n",
      "1789/1789 [==============================] - 4s 2ms/step - loss: 0.2516 - accuracy: 0.8941 - val_loss: 0.2678 - val_accuracy: 0.8867\n",
      "Epoch 27/30\n",
      "1789/1789 [==============================] - 4s 2ms/step - loss: 0.2497 - accuracy: 0.8948 - val_loss: 0.2707 - val_accuracy: 0.8837\n",
      "Epoch 28/30\n",
      "1789/1789 [==============================] - 4s 2ms/step - loss: 0.2481 - accuracy: 0.8947 - val_loss: 0.2660 - val_accuracy: 0.8866\n",
      "Epoch 29/30\n",
      "1789/1789 [==============================] - 4s 2ms/step - loss: 0.2465 - accuracy: 0.8960 - val_loss: 0.2647 - val_accuracy: 0.8882\n",
      "Epoch 30/30\n",
      "1789/1789 [==============================] - 4s 2ms/step - loss: 0.2444 - accuracy: 0.8975 - val_loss: 0.2652 - val_accuracy: 0.8874\n"
     ]
    }
   ],
   "source": [
    "num_epochs = 30\n",
    "history = model.fit(training_padded, training_labels_final, epochs=num_epochs, validation_data=(testing_padded, testing_labels_final))"
   ]
  },
  {
   "cell_type": "code",
   "execution_count": 15,
   "id": "ba116f7a",
   "metadata": {
    "execution": {
     "iopub.execute_input": "2022-04-19T14:49:38.326144Z",
     "iopub.status.busy": "2022-04-19T14:49:38.324695Z",
     "iopub.status.idle": "2022-04-19T14:49:38.816469Z",
     "shell.execute_reply": "2022-04-19T14:49:38.815601Z"
    },
    "papermill": {
     "duration": 1.253448,
     "end_time": "2022-04-19T14:49:38.818957",
     "exception": false,
     "start_time": "2022-04-19T14:49:37.565509",
     "status": "completed"
    },
    "tags": []
   },
   "outputs": [
    {
     "data": {
      "image/png": "[encoded data removed]",
      "text/plain": [
       "<Figure size 432x288 with 1 Axes>"
      ]
     },
     "metadata": {
      "needs_background": "light"
     },
     "output_type": "display_data"
    },
    {
     "data": {
      "image/png": "[encoded data removed]",
      "text/plain": [
       "<Figure size 432x288 with 1 Axes>"
      ]
     },
     "metadata": {
      "needs_background": "light"
     },
     "output_type": "display_data"
    }
   ],
   "source": [
    "import matplotlib.pyplot as plt\n",
    "\n",
    "\n",
    "def plot_graphs(history, string):\n",
    "    plt.plot(history.history[string])\n",
    "    plt.plot(history.history['val_'+string])\n",
    "    plt.xlabel(\"Epochs\")\n",
    "    plt.ylabel(string)\n",
    "    plt.legend([string, 'val_'+string])\n",
    "    plt.show()\n",
    "\n",
    "plot_graphs(history, \"accuracy\")\n",
    "plot_graphs(history, \"loss\")"
   ]
  },
  {
   "cell_type": "code",
   "execution_count": 16,
   "id": "dcc44858",
   "metadata": {
    "execution": {
     "iopub.execute_input": "2022-04-19T14:49:40.326595Z",
     "iopub.status.busy": "2022-04-19T14:49:40.325633Z",
     "iopub.status.idle": "2022-04-19T14:49:40.887476Z",
     "shell.execute_reply": "2022-04-19T14:49:40.886739Z"
    },
    "papermill": {
     "duration": 1.31839,
     "end_time": "2022-04-19T14:49:40.889874",
     "exception": false,
     "start_time": "2022-04-19T14:49:39.571484",
     "status": "completed"
    },
    "tags": []
   },
   "outputs": [],
   "source": [
    "preds = model.predict(testing_padded)"
   ]
  },
  {
   "cell_type": "code",
   "execution_count": 17,
   "id": "97368cad",
   "metadata": {
    "execution": {
     "iopub.execute_input": "2022-04-19T14:49:42.413864Z",
     "iopub.status.busy": "2022-04-19T14:49:42.412787Z",
     "iopub.status.idle": "2022-04-19T14:49:42.462635Z",
     "shell.execute_reply": "2022-04-19T14:49:42.461607Z"
    },
    "papermill": {
     "duration": 0.819775,
     "end_time": "2022-04-19T14:49:42.465103",
     "exception": false,
     "start_time": "2022-04-19T14:49:41.645328",
     "status": "completed"
    },
    "tags": []
   },
   "outputs": [
    {
     "data": {
      "text/plain": [
       "[1, 1, 0, 0, 1, 0, 1, 0, 0, 1]"
      ]
     },
     "execution_count": 17,
     "metadata": {},
     "output_type": "execute_result"
    }
   ],
   "source": [
    "def roundArray(number):\n",
    "    ret = 0\n",
    "    if number > 0.5:\n",
    "        ret = 1\n",
    "    return ret \n",
    "\n",
    "preds = preds.flatten()\n",
    "result = list(map(roundArray, preds))\n",
    "result[:10]"
   ]
  },
  {
   "cell_type": "code",
   "execution_count": 18,
   "id": "21c0c402",
   "metadata": {
    "execution": {
     "iopub.execute_input": "2022-04-19T14:49:44.045336Z",
     "iopub.status.busy": "2022-04-19T14:49:44.044739Z",
     "iopub.status.idle": "2022-04-19T14:49:44.056937Z",
     "shell.execute_reply": "2022-04-19T14:49:44.056097Z"
    },
    "papermill": {
     "duration": 0.78718,
     "end_time": "2022-04-19T14:49:44.059276",
     "exception": false,
     "start_time": "2022-04-19T14:49:43.272096",
     "status": "completed"
    },
    "tags": []
   },
   "outputs": [],
   "source": [
    "title = df['title'].tolist()\n",
    "labels = df['label'].tolist()\n",
    "\n",
    "training_size = int(len(title) * 0.8)\n",
    "\n",
    "testing_sentences = title[training_size:]\n",
    "testing_labels = labels[training_size:]"
   ]
  },
  {
   "cell_type": "code",
   "execution_count": 19,
   "id": "9d2eda75",
   "metadata": {
    "execution": {
     "iopub.execute_input": "2022-04-19T14:49:45.581395Z",
     "iopub.status.busy": "2022-04-19T14:49:45.580770Z",
     "iopub.status.idle": "2022-04-19T14:49:45.588353Z",
     "shell.execute_reply": "2022-04-19T14:49:45.587563Z"
    },
    "papermill": {
     "duration": 0.773916,
     "end_time": "2022-04-19T14:49:45.590393",
     "exception": false,
     "start_time": "2022-04-19T14:49:44.816477",
     "status": "completed"
    },
    "tags": []
   },
   "outputs": [
    {
     "data": {
      "text/plain": [
       "[1, 1, 0, 1, 1, 0, 1, 0, 0, 1]"
      ]
     },
     "execution_count": 19,
     "metadata": {},
     "output_type": "execute_result"
    }
   ],
   "source": [
    "testing_labels[:10]"
   ]
  },
  {
   "cell_type": "code",
   "execution_count": 20,
   "id": "1b5215d2",
   "metadata": {
    "execution": {
     "iopub.execute_input": "2022-04-19T14:49:47.158823Z",
     "iopub.status.busy": "2022-04-19T14:49:47.158308Z",
     "iopub.status.idle": "2022-04-19T14:49:47.169781Z",
     "shell.execute_reply": "2022-04-19T14:49:47.169054Z"
    },
    "papermill": {
     "duration": 0.770309,
     "end_time": "2022-04-19T14:49:47.171682",
     "exception": false,
     "start_time": "2022-04-19T14:49:46.401373",
     "status": "completed"
    },
    "tags": []
   },
   "outputs": [
    {
     "data": {
      "text/plain": [
       "(1611, 14308, 88.74056471903829)"
      ]
     },
     "execution_count": 20,
     "metadata": {},
     "output_type": "execute_result"
    }
   ],
   "source": [
    "error = 0\n",
    "\n",
    "for i in range(len(result)):\n",
    "    res = result[i]\n",
    "    true = testing_labels[i]\n",
    "    if res != true:\n",
    "        error += 1\n",
    "        \n",
    "error,len(result),(len(result)-error)/len(result)*100"
   ]
  },
  {
   "cell_type": "markdown",
   "id": "499a5bce",
   "metadata": {
    "papermill": {
     "duration": 0.761897,
     "end_time": "2022-04-19T14:49:48.764260",
     "exception": false,
     "start_time": "2022-04-19T14:49:48.002363",
     "status": "completed"
    },
    "tags": []
   },
   "source": [
    "## 87% of accuracy in the test set "
   ]
  },
  {
   "cell_type": "code",
   "execution_count": null,
   "id": "8f17deeb",
   "metadata": {
    "papermill": {
     "duration": 0.767074,
     "end_time": "2022-04-19T14:49:50.290620",
     "exception": false,
     "start_time": "2022-04-19T14:49:49.523546",
     "status": "completed"
    },
    "tags": []
   },
   "outputs": [],
   "source": []
  }
 ],
 "metadata": {
  "kernelspec": {
   "display_name": "Python 3",
   "language": "python",
   "name": "python3"
  },
  "language_info": {
   "codemirror_mode": {
    "name": "ipython",
    "version": 3
   },
   "file_extension": ".py",
   "mimetype": "text/x-python",
   "name": "python",
   "nbconvert_exporter": "python",
   "pygments_lexer": "ipython3",
   "version": "3.7.12"
  },
  "papermill": {
   "default_parameters": {},
   "duration": 163.070548,
   "end_time": "2022-04-19T14:49:54.389278",
   "environment_variables": {},
   "exception": null,
   "input_path": "__notebook__.ipynb",
   "output_path": "__notebook__.ipynb",
   "parameters": {},
   "start_time": "2022-04-19T14:47:11.318730",
   "version": "2.3.4"
  }
 },
 "nbformat": 4,
 "nbformat_minor": 5
}
